{
 "cells": [
  {
   "cell_type": "markdown",
   "metadata": {},
   "source": [
    "1. Crie uma função sem parâmetros que exiba uma linha com 50 * , e uma mensagem de boas\n",
    "vindas, chame essa função por 4 vezes"
   ]
  },
  {
   "cell_type": "code",
   "execution_count": 2,
   "metadata": {},
   "outputs": [
    {
     "name": "stdout",
     "output_type": "stream",
     "text": [
      "**************************************************\n",
      "     Seja bem-vindo! ૮꒰ ˶• ༝ •˶꒱ა ♡\n",
      "**************************************************\n",
      "**************************************************\n",
      "     Seja bem-vindo! ૮꒰ ˶• ༝ •˶꒱ა ♡\n",
      "**************************************************\n",
      "**************************************************\n",
      "     Seja bem-vindo! ૮꒰ ˶• ༝ •˶꒱ა ♡\n",
      "**************************************************\n",
      "**************************************************\n",
      "     Seja bem-vindo! ૮꒰ ˶• ༝ •˶꒱ა ♡\n",
      "**************************************************\n"
     ]
    }
   ],
   "source": [
    "def ast():\n",
    "    print('*' * 50)\n",
    "def boasVindas():\n",
    "    ast()\n",
    "    print('Seja bem-vindo! ૮꒰ ˶• ༝ •˶꒱ა ♡')\n",
    "    ast()\n",
    "for i in range(4):\n",
    "    boasVindas()"
   ]
  },
  {
   "cell_type": "markdown",
   "metadata": {},
   "source": [
    "2. Crie uma função que contenha uma lista com as cores primárias e exiba cada cor em uma\n",
    "linha"
   ]
  },
  {
   "cell_type": "code",
   "execution_count": 10,
   "metadata": {},
   "outputs": [
    {
     "name": "stdout",
     "output_type": "stream",
     "text": [
      "azul\n",
      "amarelo\n",
      "vermelho\n"
     ]
    }
   ],
   "source": [
    "def coresPrimarias():\n",
    "    listaCoresPrimarias = ['azul', 'amarelo', 'vermelho']\n",
    "    for cor in listaCoresPrimarias:\n",
    "        print(cor)\n",
    "        \n",
    "coresPrimarias()"
   ]
  },
  {
   "cell_type": "markdown",
   "metadata": {},
   "source": [
    "3. Crie uma função que recebe um número como parâmetro e exiba a tabuada até o 10, chame\n",
    "essa função por 3 vezes enviando parâmetros diferentes"
   ]
  },
  {
   "cell_type": "code",
   "execution_count": 18,
   "metadata": {},
   "outputs": [
    {
     "name": "stdout",
     "output_type": "stream",
     "text": [
      "3 x 0 = 0 \n",
      "3 x 1 = 3 \n",
      "3 x 2 = 6 \n",
      "3 x 3 = 9 \n",
      "3 x 4 = 12 \n",
      "3 x 5 = 15 \n",
      "3 x 6 = 18 \n",
      "3 x 7 = 21 \n",
      "3 x 8 = 24 \n",
      "3 x 9 = 27 \n",
      "3 x 10 = 30 \n",
      "546 x 0 = 0 \n",
      "546 x 1 = 546 \n",
      "546 x 2 = 1092 \n",
      "546 x 3 = 1638 \n",
      "546 x 4 = 2184 \n",
      "546 x 5 = 2730 \n",
      "546 x 6 = 3276 \n",
      "546 x 7 = 3822 \n",
      "546 x 8 = 4368 \n",
      "546 x 9 = 4914 \n",
      "546 x 10 = 5460 \n",
      "-64 x 0 = 0 \n",
      "-64 x 1 = -64 \n",
      "-64 x 2 = -128 \n",
      "-64 x 3 = -192 \n",
      "-64 x 4 = -256 \n",
      "-64 x 5 = -320 \n",
      "-64 x 6 = -384 \n",
      "-64 x 7 = -448 \n",
      "-64 x 8 = -512 \n",
      "-64 x 9 = -576 \n",
      "-64 x 10 = -640 \n"
     ]
    }
   ],
   "source": [
    "def tabuada(nr):\n",
    "    for multiplicador in range(11):\n",
    "        print(f'{nr} x {multiplicador} = {nr * multiplicador} ')\n",
    "tabuada(3)\n",
    "tabuada(546)\n",
    "tabuada(-64)"
   ]
  },
  {
   "cell_type": "markdown",
   "metadata": {},
   "source": [
    "4. Crie uma função que receba 2 números e o operador matemático para realizar a operação\n",
    "(Ex. envio os parâmetros 2 e 5 e *, fazer a multiplicação), tratar as operações + - * / **"
   ]
  },
  {
   "cell_type": "code",
   "execution_count": 26,
   "metadata": {},
   "outputs": [
    {
     "name": "stdout",
     "output_type": "stream",
     "text": [
      "49081034954319514418179992743211681242296639427310467943895740357119991177628013159251968\n"
     ]
    }
   ],
   "source": [
    "def operacoesMat(n1, n2, operador):\n",
    "    if operador == '+':\n",
    "        res = n1 + n2\n",
    "    elif operador == '-':\n",
    "        res = n1 - n2\n",
    "    elif operador == '*':\n",
    "        res = n1 * n2\n",
    "    elif operador == '/':\n",
    "        res = n1 / n2\n",
    "    elif operador == '**':\n",
    "        res = n1 ** n2\n",
    "    else:\n",
    "        print('Tente novamente')\n",
    "    return(res)\n",
    "    \n",
    "\n",
    "resOperacoes = operacoesMat(int(input('Digite um numero')), int(input('Digite um numero')), (input('Digite um operador + - * / **')))\n",
    "print(resOperacoes)"
   ]
  },
  {
   "cell_type": "markdown",
   "metadata": {},
   "source": [
    "5. Crie uma função que gere uma senha aleatória, deve receber como parâmetro a quantidade\n",
    "de caracteres que terá a senha, crie uma lista com todos os caracteres disponíveis para a\n",
    "senha e com o random sorteie a qual de dígitos terá a senha"
   ]
  },
  {
   "cell_type": "code",
   "execution_count": 8,
   "metadata": {},
   "outputs": [
    {
     "name": "stdout",
     "output_type": "stream",
     "text": [
      "L&z22uoUKR\n"
     ]
    }
   ],
   "source": [
    "import random\n",
    "\n",
    "def senha(qtdeCarac):\n",
    "    caracteres = '1234567890@#$%¨&*()qwertyuiopasdfghjklzxcvbnmQWERTYUIOPASDFGHJKLZXCVBNM'\n",
    "    senha = ''\n",
    "    for n in range(qtdeCarac):\n",
    "        senha = senha + random.choice(caracteres)\n",
    "    return(senha)\n",
    "qtdeCarac = int(input('Quantos caracteres sua senha terá?'))\n",
    "print(senha(qtdeCarac))"
   ]
  }
 ],
 "metadata": {
  "kernelspec": {
   "display_name": "Python 3",
   "language": "python",
   "name": "python3"
  },
  "language_info": {
   "codemirror_mode": {
    "name": "ipython",
    "version": 3
   },
   "file_extension": ".py",
   "mimetype": "text/x-python",
   "name": "python",
   "nbconvert_exporter": "python",
   "pygments_lexer": "ipython3",
   "version": "3.12.2"
  }
 },
 "nbformat": 4,
 "nbformat_minor": 2
}
