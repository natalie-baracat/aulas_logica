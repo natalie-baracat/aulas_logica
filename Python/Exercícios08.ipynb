{
 "cells": [
  {
   "cell_type": "markdown",
   "metadata": {},
   "source": [
    "1. Crie uma lista com os números de 1 a 10 e imprima cada número."
   ]
  },
  {
   "cell_type": "code",
   "execution_count": 3,
   "metadata": {},
   "outputs": [
    {
     "name": "stdout",
     "output_type": "stream",
     "text": [
      "1\n",
      "2\n",
      "3\n",
      "4\n",
      "5\n",
      "6\n",
      "7\n",
      "8\n",
      "9\n",
      "10\n"
     ]
    }
   ],
   "source": [
    "lista_nrs = [1,2,3,4,5,6,7,8,9,10]\n",
    "for nr in lista_nrs:\n",
    "    print(nr)"
   ]
  },
  {
   "cell_type": "markdown",
   "metadata": {},
   "source": [
    "2. Crie uma lista com os nomes de três amigos e imprima cada nome."
   ]
  },
  {
   "cell_type": "code",
   "execution_count": 6,
   "metadata": {},
   "outputs": [
    {
     "name": "stdout",
     "output_type": "stream",
     "text": [
      "Juliana\n",
      "Maria Eduarda\n",
      "Mariana\n"
     ]
    }
   ],
   "source": [
    "lista_amigos = ['Juliana', 'Maria Eduarda', 'Mariana'] \n",
    "for amigo in lista_amigos:\n",
    "    print(amigo)"
   ]
  },
  {
   "cell_type": "markdown",
   "metadata": {},
   "source": [
    "3. Crie uma lista com os meses do ano e imprima apenas os meses que começam com \"J\"."
   ]
  },
  {
   "cell_type": "code",
   "execution_count": 20,
   "metadata": {},
   "outputs": [
    {
     "name": "stdout",
     "output_type": "stream",
     "text": [
      "janeiro\n",
      "junho\n",
      "julho\n"
     ]
    }
   ],
   "source": [
    "lista_meses = ['janeiro', 'fevereiro', 'março', 'abril', 'maio', 'junho', 'julho', 'agosto', 'setembro', 'outubro', 'novembro', 'dezembro']\n",
    "for meses in lista_meses:\n",
    "    if meses[0] == 'j':\n",
    "        print(meses)"
   ]
  },
  {
   "cell_type": "markdown",
   "metadata": {},
   "source": [
    "4. Crie uma lista com as palavras \"gato\", \"cachorro\", \"pássaro\" e \"peixe\", e imprima cada palavra\n",
    "em maiúsculas."
   ]
  },
  {
   "cell_type": "code",
   "execution_count": 45,
   "metadata": {},
   "outputs": [
    {
     "name": "stdout",
     "output_type": "stream",
     "text": [
      "GATO\n",
      "CACHORRO\n",
      "PÁSSARO\n",
      "PEIXE\n"
     ]
    }
   ],
   "source": [
    "lista_animais = ['gato', 'cachorro', 'pássaro', 'peixe']\n",
    "for animal in lista_animais:\n",
    "    print(animal.upper())"
   ]
  },
  {
   "cell_type": "markdown",
   "metadata": {},
   "source": [
    "5. Crie uma lista com 5 números aleatórios e exiba o nr e seu dobro desse."
   ]
  },
  {
   "cell_type": "code",
   "execution_count": 23,
   "metadata": {},
   "outputs": [
    {
     "name": "stdout",
     "output_type": "stream",
     "text": [
      "O dobro de 5 é 10\n",
      "O dobro de 7 é 14\n",
      "O dobro de 3 é 6\n",
      "O dobro de 9 é 18\n",
      "O dobro de 28356 é 56712\n"
     ]
    }
   ],
   "source": [
    "lista_nr = [5,7,3,9, 28356]\n",
    "for nr in lista_nr:\n",
    "    print(f'O dobro de {nr} é {nr * 2}')"
   ]
  },
  {
   "cell_type": "markdown",
   "metadata": {},
   "source": [
    "6. Crie uma lista com valores numéricos e encontre o maior e o menor elemento dessa lista."
   ]
  },
  {
   "cell_type": "code",
   "execution_count": 51,
   "metadata": {},
   "outputs": [
    {
     "name": "stdout",
     "output_type": "stream",
     "text": [
      "Maior = 1895, menor = 7\n",
      "1895\n",
      "7\n"
     ]
    }
   ],
   "source": [
    "lista_nrs = [1895, 7, 33, 24, 340]\n",
    "maior = 0\n",
    "menor = 2000\n",
    "\n",
    "for nr in lista_nrs:\n",
    "    if nr > maior:\n",
    "        maior = nr\n",
    "    elif nr < menor:\n",
    "        menor = nr\n",
    "print(f'Maior = {maior}, menor = {menor}')\n",
    "\n",
    "#se fossemos utilizar as funcoes prontas do python\n",
    "print(max(lista_nrs))\n",
    "print(min(lista_nrs))"
   ]
  },
  {
   "cell_type": "markdown",
   "metadata": {},
   "source": [
    "7. Receba uma palavra do usuário e calcule quantas vogais há nesta palavra."
   ]
  },
  {
   "cell_type": "code",
   "execution_count": 54,
   "metadata": {},
   "outputs": [
    {
     "name": "stdout",
     "output_type": "stream",
     "text": [
      "A palavra Llanfair­pwllgwyngyll­gogery­chwyrn­drobwll­llan­tysilio­gogo­goch possui 13 vogais\n"
     ]
    }
   ],
   "source": [
    "qtde_vogais = 0\n",
    "palavra = input('Digite uma palavra')\n",
    "for letra in palavra:\n",
    "    if letra.lower() in 'aáàãâeéèiou':\n",
    "        qtde_vogais += 1\n",
    "print(f'A palavra {palavra} possui {qtde_vogais} vogais')"
   ]
  },
  {
   "cell_type": "markdown",
   "metadata": {},
   "source": [
    "8. Nessa string ‘Gol;Corsa;Palio;Monza;Fusca;’, faça a separação desses itens para uma lista e\n",
    "exiba o item e a posição que ele está"
   ]
  },
  {
   "cell_type": "code",
   "execution_count": 31,
   "metadata": {},
   "outputs": [
    {
     "name": "stdout",
     "output_type": "stream",
     "text": [
      "1º Gol\n",
      "2º Corsa\n",
      "3º Palio\n",
      "4º Monza\n",
      "5º Fusca\n"
     ]
    }
   ],
   "source": [
    "carros = 'Gol;Corsa;Palio;Monza;Fusca'\n",
    "lista_carros = carros.split(';')\n",
    "for posicao, carros in enumerate(lista_carros):\n",
    "    print(f'{posicao + 1}º {carros}')"
   ]
  },
  {
   "cell_type": "markdown",
   "metadata": {},
   "source": [
    "9. Faça um programa que vai ler valores numéricos e guardá-los em uma lista, caso o\n",
    "usuário digite 0, o programa mostre:\n",
    "\n",
    "A – Quantos números foram digitados.\n",
    "\n",
    "B – Mostre a lista em ordem crescente.\n",
    "\n",
    "C – Mostre a lista em ordem decrescente.\n",
    "\n",
    "D – O maior valor\n",
    "\n",
    "E – O menor valor\n",
    "\n",
    "F – Se o valor 5 foi digitado na lista ou não."
   ]
  },
  {
   "cell_type": "code",
   "execution_count": 41,
   "metadata": {},
   "outputs": [
    {
     "name": "stdout",
     "output_type": "stream",
     "text": [
      "5 numeros foram digitados\n",
      "['2', '5', '55', '7', '88']\n",
      "['88', '7', '55', '5', '2']\n",
      "O valor 5 não foi digitado na lista\n"
     ]
    }
   ],
   "source": [
    "nrs = ['55','2','5','7','88']\n",
    "\n",
    "#A#\n",
    "print(f'{len(nrs)} numeros foram digitados')\n",
    "#B\n",
    "nrs.sort()\n",
    "print(nrs)\n",
    "#C\n",
    "nrs.reverse()\n",
    "print(nrs)\n",
    "#D\n",
    "\n",
    "#E\n",
    "\n",
    "#F\n",
    "for nr in nrs:\n",
    "    if nr in '5':\n",
    "        print('O valor 5 foi digitado na lista')\n",
    "    else:\n",
    "        print('O valor 5 não foi digitado na lista')\n",
    "    break"
   ]
  },
  {
   "cell_type": "markdown",
   "metadata": {},
   "source": [
    "10. Faça um programa que peça o nome de 6 pessoas e pergunte o sexo delas e\n",
    "armazene em 2 listas, uma de homem caso coloque o sexo ‘M’ e outra de mulher caso\n",
    "coloque o sexo ‘F’, no final exiba a lista de homens e mulheres"
   ]
  },
  {
   "cell_type": "code",
   "execution_count": 43,
   "metadata": {},
   "outputs": [
    {
     "ename": "TypeError",
     "evalue": "type 'range' is not subscriptable",
     "output_type": "error",
     "traceback": [
      "\u001b[1;31m---------------------------------------------------------------------------\u001b[0m",
      "\u001b[1;31mTypeError\u001b[0m                                 Traceback (most recent call last)",
      "Cell \u001b[1;32mIn[43], line 1\u001b[0m\n\u001b[1;32m----> 1\u001b[0m \u001b[38;5;28;01mfor\u001b[39;00m i \u001b[38;5;129;01min\u001b[39;00m \u001b[38;5;28;43mrange\u001b[39;49m\u001b[43m[\u001b[49m\u001b[38;5;241;43m6\u001b[39;49m\u001b[43m]\u001b[49m:\n\u001b[0;32m      2\u001b[0m     nomes \u001b[38;5;241m=\u001b[39m [\u001b[38;5;28minput\u001b[39m(\u001b[38;5;124m'\u001b[39m\u001b[38;5;124mDigite um nome\u001b[39m\u001b[38;5;124m'\u001b[39m)]\n\u001b[0;32m      3\u001b[0m     sexos \u001b[38;5;241m=\u001b[39m \u001b[38;5;28minput\u001b[39m(\u001b[38;5;124m'\u001b[39m\u001b[38;5;124mDigite o sexo\u001b[39m\u001b[38;5;124m'\u001b[39m)\n",
      "\u001b[1;31mTypeError\u001b[0m: type 'range' is not subscriptable"
     ]
    }
   ],
   "source": []
  }
 ],
 "metadata": {
  "kernelspec": {
   "display_name": "Python 3",
   "language": "python",
   "name": "python3"
  },
  "language_info": {
   "codemirror_mode": {
    "name": "ipython",
    "version": 3
   },
   "file_extension": ".py",
   "mimetype": "text/x-python",
   "name": "python",
   "nbconvert_exporter": "python",
   "pygments_lexer": "ipython3",
   "version": "3.12.2"
  }
 },
 "nbformat": 4,
 "nbformat_minor": 2
}
