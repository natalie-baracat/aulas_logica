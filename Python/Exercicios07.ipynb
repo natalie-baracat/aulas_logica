{
 "cells": [
  {
   "cell_type": "markdown",
   "metadata": {},
   "source": [
    "1. Crie uma lista de filmes com 7 filmes a sua escolha, e faça as seguintes operações com ela:\n",
    "\n",
    "• 1 Exiba apenas o primeiro o filme da lista\n",
    "\n",
    "• 2 Exiba o filme da posição 4\n",
    "\n",
    "• 3 Substitua o filme da última posição e exiba a lista\n",
    "\n",
    "• 4 Insira um novo filme no final da lista e exiba a lista\n",
    "\n",
    "• 5 Insira um novo filme na posição 5 e exiba a lista\n",
    "\n",
    "• 6 Exclua o primeiro filme e exiba a lista\n",
    "\n",
    "• 7 Exclua o último filme e exiba a lista\n",
    "\n",
    "• 8 Exiba os 3 primeiros filmes da lista\n",
    "\n",
    "• 9 Exiba os 4 últimos filmes da lista\n",
    "\n",
    "• 10 Exiba a quantidade de filmes atualmente na lista\n",
    "\n",
    "• 11 Ordene os filmes em ordem decrescente e exiba-os"
   ]
  },
  {
   "cell_type": "code",
   "execution_count": 20,
   "metadata": {},
   "outputs": [
    {
     "name": "stdout",
     "output_type": "stream",
     "text": [
      "Parasita\n",
      "Amelie\n",
      "['Parasita', 'Que horas ela volta?', 'Re-animator', 'Jornada nas estrelas IV', 'Amelie', 'Rope (1948)', 'Um Sonho de Liberdade', 'Psicose']\n",
      "['Parasita', 'Que horas ela volta?', 'Re-animator', 'Jornada nas estrelas IV', 'Amelie', 'Rope (1948)', 'Um Sonho de Liberdade', 'Psicose', 'O Silêncio dos Inocentes']\n",
      "['Parasita', 'Que horas ela volta?', 'Re-animator', 'Jornada nas estrelas IV', 'Amelie', 'Carol', 'Rope (1948)', 'Um Sonho de Liberdade', 'Psicose', 'O Silêncio dos Inocentes']\n",
      "['Que horas ela volta?', 'Re-animator', 'Jornada nas estrelas IV', 'Amelie', 'Carol', 'Rope (1948)', 'Um Sonho de Liberdade', 'Psicose', 'O Silêncio dos Inocentes']\n",
      "['Que horas ela volta?', 'Re-animator', 'Jornada nas estrelas IV', 'Amelie', 'Carol', 'Rope (1948)', 'Um Sonho de Liberdade', 'Psicose']\n",
      "['Que horas ela volta?', 'Re-animator', 'Jornada nas estrelas IV']\n",
      "['Amelie', 'Carol', 'Rope (1948)', 'Um Sonho de Liberdade', 'Psicose']\n",
      "8 filmes na lista\n",
      "['Psicose', 'Um Sonho de Liberdade', 'Rope (1948)', 'Carol', 'Amelie', 'Jornada nas estrelas IV', 'Re-animator', 'Que horas ela volta?']\n"
     ]
    }
   ],
   "source": [
    "filmes = ['Parasita', 'Que horas ela volta?','Re-animator', 'Jornada nas estrelas IV', 'Amelie','Rope (1948)', 'Jogos Mortais (2004)', 'Psicose']\n",
    "\n",
    "#1\n",
    "print(filmes[0])\n",
    "\n",
    "#2\n",
    "print(filmes[4])\n",
    "\n",
    "#3\n",
    "filmes[6] = 'Um Sonho de Liberdade'\n",
    "print(filmes)\n",
    "\n",
    "#4\n",
    "filmes.append('O Silêncio dos Inocentes')\n",
    "print(filmes)\n",
    "\n",
    "#5\n",
    "filmes.insert(5, 'Carol')\n",
    "print(filmes)\n",
    "\n",
    "#6\n",
    "filmes.pop(0)\n",
    "print(filmes)\n",
    "\n",
    "#7\n",
    "filmes.pop()\n",
    "print(filmes)\n",
    "\n",
    "#8\n",
    "print(filmes[0:3])\n",
    "\n",
    "#9\n",
    "print(filmes[3:])\n",
    "\n",
    "#10\n",
    "print(f'{len(filmes)} filmes na lista')\n",
    "\n",
    "#11\n",
    "filmes.reverse()\n",
    "print(filmes)"
   ]
  },
  {
   "cell_type": "markdown",
   "metadata": {},
   "source": [
    "2. Crie uma lista com os 20 times do campeonato brasileiro de futebol\n",
    "• Exiba o primeiro time da lista como campeão\n",
    "• Exiba os 4 primeiros times como que irão jogar a libertadores\n",
    "• Exiba os 4 últimos times como os que estão rebaixados para a série B"
   ]
  },
  {
   "cell_type": "code",
   "execution_count": 30,
   "metadata": {},
   "outputs": [
    {
     "name": "stdout",
     "output_type": "stream",
     "text": [
      "O São Paulo é campeão!!!\n",
      "['São Paulo', 'Atlético-MG', 'Flamengo', 'Grêmio'] irão jogar na Libertadores\n",
      "['Vitória', 'Juventude', 'Criciúma', 'Atlético-GO'] serão rebaixados à série B\n"
     ]
    }
   ],
   "source": [
    "times = ['São Paulo', 'Atlético-MG', 'Flamengo', 'Grêmio', 'Botafogo', 'Red Bull Bragantino', 'Fluminense', 'Athletico-PR', 'Internacional', 'Fortaleza', 'Palmeiras', 'Cuiabá', 'Corinthians', 'Cruzeiro', 'Vasco', 'Bahia', 'Vitória', 'Juventude', 'Criciúma', 'Atlético-GO']\n",
    "\n",
    "print(f'O {times[0]} é campeão!!!')\n",
    "print(f'{times[0:4]} irão jogar na Libertadores')\n",
    "print(f'{times[16:]} serão rebaixados à série B')"
   ]
  },
  {
   "cell_type": "markdown",
   "metadata": {},
   "source": [
    "3. Crie um programa que receba do usuário através do input 6 comidas e refaça todos\n",
    "os itens do exercício 1"
   ]
  },
  {
   "cell_type": "code",
   "execution_count": 36,
   "metadata": {},
   "outputs": [
    {
     "name": "stdout",
     "output_type": "stream",
     "text": [
      "arroz\n",
      "narget com mimosa\n",
      "['arroz', 'feijao', 'batata', 'macarrao com sarxisa', 'narget com mimosa', 'peça de avião']\n",
      "['arroz', 'feijao', 'batata', 'macarrao com sarxisa', 'narget com mimosa', 'peça de avião', 'sopa de vó']\n",
      "['arroz', 'feijao', 'batata', 'macarrao com sarxisa', 'narget com mimosa', 'pão com ovo', 'peça de avião', 'sopa de vó']\n",
      "['feijao', 'batata', 'macarrao com sarxisa', 'narget com mimosa', 'pão com ovo', 'peça de avião', 'sopa de vó']\n",
      "['feijao', 'batata', 'macarrao com sarxisa', 'narget com mimosa', 'pão com ovo', 'peça de avião']\n",
      "['feijao', 'batata', 'macarrao com sarxisa']\n",
      "['narget com mimosa', 'pão com ovo', 'peça de avião']\n",
      "6 comidas na lista\n",
      "['peça de avião', 'pão com ovo', 'narget com mimosa', 'macarrao com sarxisa', 'batata', 'feijao']\n"
     ]
    }
   ],
   "source": [
    "comidas = []\n",
    "for x in range(6):\n",
    "    comida_digitada = input('Digite sua comidinha')\n",
    "    comidas.append(comida_digitada)\n",
    "    \n",
    "#1\n",
    "print(comidas[0])\n",
    "\n",
    "#2\n",
    "print(comidas[4])\n",
    "\n",
    "#3\n",
    "comidas[5] = 'peça de avião'\n",
    "print(comidas)\n",
    "\n",
    "#4\n",
    "comidas.append('sopa de vó')\n",
    "print(comidas)\n",
    "\n",
    "#5\n",
    "comidas.insert(5, 'pão com ovo')\n",
    "print(comidas)\n",
    "\n",
    "#6\n",
    "comidas.pop(0)\n",
    "print(comidas)\n",
    "\n",
    "#7\n",
    "comidas.pop()\n",
    "print(comidas)\n",
    "\n",
    "#8\n",
    "print(comidas[0:3])\n",
    "\n",
    "#9\n",
    "print(comidas[3:])\n",
    "\n",
    "#10\n",
    "print(f'{len(comidas)} comidas na lista')\n",
    "\n",
    "#11\n",
    "comidas.reverse()\n",
    "print(comidas)"
   ]
  }
 ],
 "metadata": {
  "kernelspec": {
   "display_name": "Python 3",
   "language": "python",
   "name": "python3"
  },
  "language_info": {
   "codemirror_mode": {
    "name": "ipython",
    "version": 3
   },
   "file_extension": ".py",
   "mimetype": "text/x-python",
   "name": "python",
   "nbconvert_exporter": "python",
   "pygments_lexer": "ipython3",
   "version": "3.12.2"
  }
 },
 "nbformat": 4,
 "nbformat_minor": 2
}
