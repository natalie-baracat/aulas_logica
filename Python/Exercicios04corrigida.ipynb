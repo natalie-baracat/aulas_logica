{
 "cells": [
  {
   "cell_type": "markdown",
   "metadata": {},
   "source": [
    "1. Peça o salário do funcionário e calcule o valor do IRPF e INSS do funcionário e quanto ele irá\n",
    "receber no final do mês, considerando a seguinte tabela:"
   ]
  },
  {
   "cell_type": "code",
   "execution_count": 15,
   "metadata": {},
   "outputs": [
    {
     "name": "stdout",
     "output_type": "stream",
     "text": [
      "Você receberá 3381.89\n"
     ]
    }
   ],
   "source": [
    "#IRPF\n",
    "\n",
    "salario = float(input('Digite seu salário'))\n",
    "\n",
    "if salario < 2259.20:\n",
    "    print('Não será descontado imposto de renda.')\n",
    "elif salario >= 2259.20 and salario < 2826.65:\n",
    "    inss = 75 * (salario / 100)\n",
    "    print(f'Você receberá {salario - inss:.2f}')\n",
    "\n",
    "elif salario >= 2826.65 and salario < 3751.05:\n",
    "    inss = 15 * (salario / 100)\n",
    "    print(f'Você receberá {salario - inss:.2f}')\n",
    "\n",
    "elif salario >= 3751.05 and salario < 4664.68:\n",
    "    inss = 22.5 * (salario / 100)\n",
    "    print(f'Você receberá {salario - inss:.2f}')\n",
    "    \n",
    "else:\n",
    "    inss = 27.5 * (salario / 100)\n",
    "    print(f'Você receberá {salario - inss:.2f}')\n",
    "\n",
    "    "
   ]
  },
  {
   "cell_type": "code",
   "execution_count": 17,
   "metadata": {},
   "outputs": [
    {
     "name": "stdout",
     "output_type": "stream",
     "text": [
      "Você receberá 1576.00\n"
     ]
    }
   ],
   "source": [
    "#INSS\n",
    "salario = float(input('Digite seu salário'))\n",
    "\n",
    "if salario < 1412:\n",
    "    faixa1 = 75 * (salario / 100)\n",
    "    print(f'Você receberá {salario - faixa2:.2f}')\n",
    "\n",
    "elif salario >= 1412 and salario < 2666.68:\n",
    "    faixa2 = 9 * (salario / 100)\n",
    "    print(f'Você receberá {salario - faixa3:.2f}')\n",
    "\n",
    "elif salario >= 2666.68 and salario < 4000.03 :\n",
    "    faixa3 = 12 * (salario / 100)\n",
    "    print(f'Você receberá {salario - faixa4:.2f}')\n",
    "\n",
    "elif salario >= 4000.03 and salario < 7786.02:\n",
    "    faixa4 = 14 * (salario / 100)\n",
    "    print(f'Você receberá {salario - faixa5:.2f}')\n",
    "else:\n",
    "    faixa5 = 908.85\n",
    "    print(f'Você receberá {salario - faixa5:.2f}')"
   ]
  },
  {
   "cell_type": "markdown",
   "metadata": {},
   "source": [
    "2. Para melhorar nosso desafio 01, vamos criar um novo calculando de forma real.\n",
    "Peça o salário do funcionário e calcule o valor do IRPF e INSS do funcionário e quanto ele irá\n",
    "receber no final do mês, considerando as seguintes tabelas e fórmulas:\n",
    "- Para calcular o INSS é calculado sobre o valor bruto do salário\n",
    "- Para calcular o IRPF é aplicado a tabela abaixo sobre o valor bruto menos o valor do INSS"
   ]
  },
  {
   "cell_type": "code",
   "execution_count": 20,
   "metadata": {},
   "outputs": [
    {
     "name": "stdout",
     "output_type": "stream",
     "text": [
      "INSS:\n",
      "Você receberá 7091.15\n",
      "IRPF E INSS:\n",
      "Você receberá 7091.15\n"
     ]
    }
   ],
   "source": [
    "#INSS\n",
    "\n",
    "salario = float(input('Digite seu salário'))\n",
    "print('INSS:')\n",
    "\n",
    "if salario < 1412:\n",
    "    inss1 = 75 * (salario / 100)\n",
    "    print(f'Você receberá {salario - inss1:.2f}')\n",
    "\n",
    "elif salario >= 1412 and salario < 2666.68:\n",
    "    inss2 = 9 * (salario / 100)\n",
    "    print(f'Você receberá {salario - inss2:.2f}')\n",
    "\n",
    "elif salario >= 2666.68 and salario < 4000.03 :\n",
    "    inss3 = 12 * (salario / 100)\n",
    "    print(f'Você receberá {salario - inss3:.2f}')\n",
    "\n",
    "elif salario >= 4000.03 and salario < 7786.02:\n",
    "    inss4 = 14 * (salario / 100)\n",
    "    print(f'Você receberá {salario - inss4:.2f}')\n",
    "else:\n",
    "    inss5 = 908.85\n",
    "    print(f'Você receberá {salario - inss5:.2f}')\n",
    "\n",
    "#IRPF\n",
    "\n",
    "print('IRPF E INSS:')\n",
    "\n",
    "if salario < 2259.20:\n",
    "    irpf1 = 0\n",
    "    print('Não será descontado imposto de renda.')\n",
    "\n",
    "elif salario >= 2259.20 and salario < 2826.65:\n",
    "    irpf2 = 75 * (salario / 100)\n",
    "    print(f'Você receberá {salario - inss2 * irpf2 :.2f}')\n",
    "\n",
    "elif salario >= 2826.65 and salario < 3751.05:\n",
    "    irpf3 = 15 * (salario / 100)\n",
    "    print(f'Você receberá {salario - inss3 * irpf3:.2f}')\n",
    "\n",
    "elif salario >= 3751.05 and salario < 4664.68:\n",
    "    irpf4 = 22.5 * (salario / 100)\n",
    "    print(f'Você receberá {salario - inss4 * irpf4 :.2f}')\n",
    "    \n",
    "else:\n",
    "    irpf5 = 27.5 * (salario / 100)\n",
    "    print(f'Você receberá {salario - inss5 * irpf5 :.2f}')\n",
    "    "
   ]
  },
  {
   "cell_type": "code",
   "execution_count": null,
   "metadata": {},
   "outputs": [],
   "source": [
    "#teste \n",
    "\n",
    "#IRRPF E INSS\n",
    "\n",
    "salario = float(input('Digite seu salário'))\n",
    "\n",
    "if salario < 1412:\n",
    "    inss1 = (75 * (salario / 100)) / salario\n",
    "    print(f'Você receberá {salario - inss1:.2f}')\n",
    "\n",
    "elif salario >= 1412 and salario < 2666.68:\n",
    "    inss2 = (9 * (salario / 100)) / salario\n",
    "    print(f'Você receberá {salario - inss2:.2f}')\n",
    "\n",
    "elif salario >= 2666.68 and salario < 4000.03 :\n",
    "    inss3 = 12 * (salario / 100)\n",
    "    print(f'Você receberá {salario - inss3:.2f}')\n",
    "\n",
    "elif salario >= 4000.03 and salario < 7786.02:\n",
    "    inss4 = 27.5 * (salario / 100) /\n",
    "    irpf4 = \n",
    "    print(f'Você receberá {salario - inss4:.2f}')\n",
    "else:\n"
   ]
  }
 ],
 "metadata": {
  "kernelspec": {
   "display_name": "Python 3",
   "language": "python",
   "name": "python3"
  },
  "language_info": {
   "codemirror_mode": {
    "name": "ipython",
    "version": 3
   },
   "file_extension": ".py",
   "mimetype": "text/x-python",
   "name": "python",
   "nbconvert_exporter": "python",
   "pygments_lexer": "ipython3",
   "version": "3.12.2"
  }
 },
 "nbformat": 4,
 "nbformat_minor": 2
}
