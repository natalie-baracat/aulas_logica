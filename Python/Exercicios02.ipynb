{
 "cells": [
  {
   "cell_type": "markdown",
   "metadata": {},
   "source": [
    "1. Leia 2 notas de um aluno, calcule a média, e imprima aprovado ou reprovado (para ser aprovado é necessário no mínimo nota 7 (29/02/2024)"
   ]
  },
  {
   "cell_type": "code",
   "execution_count": 3,
   "metadata": {},
   "outputs": [
    {
     "name": "stdout",
     "output_type": "stream",
     "text": [
      "Sua média foi 5.75. Está reprovado.\n"
     ]
    }
   ],
   "source": [
    "nota1 = float(input('Digite sua nota'))\n",
    "nota2 = float(input('Digite sua outra nota'))\n",
    "\n",
    "media = ((nota1 + nota2) / 2)\n",
    "\n",
    "if media >= 7:\n",
    "    print(f'Sua média foi {media}. Está aprovado.')\n",
    "else:\n",
    "    print(f'Sua média foi {media}. Está reprovado.')\n",
    "\n"
   ]
  },
  {
   "cell_type": "markdown",
   "metadata": {},
   "source": [
    "2. Peça dois números ao usuário e mostre qual o maior e qual o menor"
   ]
  },
  {
   "cell_type": "code",
   "execution_count": 4,
   "metadata": {},
   "outputs": [
    {
     "name": "stdout",
     "output_type": "stream",
     "text": [
      "23.0 é maior que 2.2\n"
     ]
    }
   ],
   "source": [
    "num1 = float(input('Digite um número real'))\n",
    "num2 = float(input('Digite outro número real'))\n",
    "\n",
    "if num1 > num2:\n",
    "    print(f'{num1} é maior que {num2}')\n",
    "else:\n",
    "    print(f'{num2} é maior que {num1}')"
   ]
  },
  {
   "cell_type": "markdown",
   "metadata": {},
   "source": [
    "3. Receba um inteiro e diga se é par ou ímpar."
   ]
  },
  {
   "cell_type": "code",
   "execution_count": 13,
   "metadata": {},
   "outputs": [
    {
     "name": "stdout",
     "output_type": "stream",
     "text": [
      "878 é um número par\n"
     ]
    }
   ],
   "source": [
    "num = int(input('Insira um número inteiro'))\n",
    "resto = (num % 2)\n",
    "\n",
    "if resto == 0:\n",
    "    print(f'{num} é um número par')\n",
    "else:\n",
    "    print(f'{num} é um número ímpar')"
   ]
  },
  {
   "cell_type": "markdown",
   "metadata": {},
   "source": [
    "4. Receba um número inteiro e diga se é positivo ou negativo."
   ]
  },
  {
   "cell_type": "code",
   "execution_count": 5,
   "metadata": {},
   "outputs": [
    {
     "name": "stdout",
     "output_type": "stream",
     "text": [
      "-78 é um número negativo\n"
     ]
    }
   ],
   "source": [
    "num = int(input('Insira um número inteiro'))\n",
    "\n",
    "if num > 0:\n",
    "    print(f'{num} é um número positivo')\n",
    "else:\n",
    "    print(f'{num} é um número negativo')"
   ]
  },
  {
   "cell_type": "markdown",
   "metadata": {},
   "source": [
    "5. Pergunte o ano de nascimento de uma pessoa e diga se ele é maior de idade"
   ]
  },
  {
   "cell_type": "code",
   "execution_count": 6,
   "metadata": {},
   "outputs": [
    {
     "name": "stdout",
     "output_type": "stream",
     "text": [
      "Você é menor\n"
     ]
    }
   ],
   "source": [
    "ano = int(input('Em que ano você nasceu?'))\n",
    "\n",
    "if 2024 - ano >= 18:\n",
    "    print('Você é maior de idade')\n",
    "else:\n",
    "    print('Você é menor')"
   ]
  },
  {
   "cell_type": "markdown",
   "metadata": {},
   "source": [
    "6. Ler dois números inteiros e informar se estes são iguais ou diferentes."
   ]
  },
  {
   "cell_type": "code",
   "execution_count": 9,
   "metadata": {},
   "outputs": [
    {
     "name": "stdout",
     "output_type": "stream",
     "text": [
      "4 é diferente do número 43\n"
     ]
    }
   ],
   "source": [
    "num1 = int(input('Insira um número inteiro'))\n",
    "num2 = int(input('Insira outro número inteiro'))\n",
    "\n",
    "if num1 == num2:\n",
    "    print(f'{num1} é igual ao número {num2}')\n",
    "else:\n",
    "    print(f'{num1} é diferente do número {num2}')"
   ]
  },
  {
   "cell_type": "markdown",
   "metadata": {},
   "source": [
    "7. Receba a velocidade do carro e exiba que foi multado se for maior que 80km/h, o valor da\n",
    "multa será R$ 7,00 por cada km excedido, exibir o valor da multa"
   ]
  },
  {
   "cell_type": "code",
   "execution_count": 22,
   "metadata": {},
   "outputs": [
    {
     "name": "stdout",
     "output_type": "stream",
     "text": [
      "O valor da multa será R$379.40\n"
     ]
    }
   ],
   "source": [
    "velocidade = float(input('Qual a velocidade em km/h do carro?'))\n",
    "multa = 7 * (velocidade - 80)\n",
    "\n",
    "if velocidade > 80:\n",
    "    print(f'O valor da multa será R${multa:.2f}')"
   ]
  },
  {
   "cell_type": "markdown",
   "metadata": {},
   "source": [
    "1. Escreva um programa que calcule o preço a ser pago por um produto considerando um desconto de 10% se o valor da compra for maior que R$ 100,00. (01/03/2024)"
   ]
  },
  {
   "cell_type": "code",
   "execution_count": 6,
   "metadata": {},
   "outputs": [
    {
     "name": "stdout",
     "output_type": "stream",
     "text": [
      "O preço após o desconto é de R$207.0\n"
     ]
    }
   ],
   "source": [
    "preco = float(input('Qual o preço?'))\n",
    "\n",
    "if preco > 100:\n",
    "    print(f'O preço após o desconto é de R${preco - (preco * 10/100)}')\n",
    "else:\n",
    "    print('Não houve desconto')"
   ]
  },
  {
   "cell_type": "markdown",
   "metadata": {},
   "source": [
    "2. Desenvolva um programa que receba o valor de 3 lados de um triângulo e verifique se pode formar um triângulo."
   ]
  },
  {
   "cell_type": "code",
   "execution_count": 19,
   "metadata": {},
   "outputs": [
    {
     "name": "stdout",
     "output_type": "stream",
     "text": [
      "Com retas medindo 10, 23, e 15, é possível formar um triângulo\n"
     ]
    }
   ],
   "source": [
    "#ESTRUTURA CONDICIONAL COMPOSTA - esse eu fiz sozinha e ta certo, mas coloquei coisa demaisss.. \n",
    "#o certo esta em Aulas.ipynb\n",
    "\n",
    "lado1 = int(input('Qual o valor do lado?'))\n",
    "lado2 = int(input('Qual o valor do lado?'))\n",
    "lado3 = int(input('Qual o valor do lado?'))\n",
    "\n",
    "#precisei pesquisar as condiçoes de existencia de um triangulo; são elas:\n",
    "#| b - c | < a < b + c\n",
    "#| a - c | < b < a + c\n",
    "#| a - b | < c < a + b\n",
    "\n",
    "#depois, precisei pesquisar como se obtem o valor absoluto (ignorar sinal de negativo); é assim:\n",
    "#abs()\n",
    "\n",
    "if ((lado2 + lado3) > lado1 > abs((lado2 - lado3)))  &  ((lado1 + lado3) > lado2 > abs((lado1 - lado3)))  &  ((lado2 + lado1) > lado3 > abs((lado2 - lado1))):\n",
    "    print(f'Com retas medindo {lado1}, {lado2}, e {lado3}, é possível formar um triângulo')\n",
    "else:\n",
    "    print(f'Com retas medindo {lado1}, {lado2}, e {lado3}, NÃO é possível formar um triângulo')"
   ]
  },
  {
   "cell_type": "markdown",
   "metadata": {},
   "source": [
    "3. Crie um programa que receba 2 valores e troque os valores das variáveis entre si, ex.: var a=1 e b=2 , exibir \"O valor da variável a=2 e b=1\""
   ]
  },
  {
   "cell_type": "code",
   "execution_count": null,
   "metadata": {},
   "outputs": [],
   "source": [
    "a = 7\n",
    "b = 3\n",
    "\n",
    "if a == 7:\n",
    "    "
   ]
  },
  {
   "cell_type": "markdown",
   "metadata": {},
   "source": [
    "4. Refaça o exercício anterior, sem utilizar variáveis adicionais"
   ]
  },
  {
   "cell_type": "code",
   "execution_count": null,
   "metadata": {},
   "outputs": [],
   "source": []
  }
 ],
 "metadata": {
  "kernelspec": {
   "display_name": "Python 3",
   "language": "python",
   "name": "python3"
  },
  "language_info": {
   "codemirror_mode": {
    "name": "ipython",
    "version": 3
   },
   "file_extension": ".py",
   "mimetype": "text/x-python",
   "name": "python",
   "nbconvert_exporter": "python",
   "pygments_lexer": "ipython3",
   "version": "3.12.2"
  }
 },
 "nbformat": 4,
 "nbformat_minor": 2
}
