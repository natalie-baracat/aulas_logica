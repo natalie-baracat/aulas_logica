{
 "cells": [
  {
   "cell_type": "markdown",
   "metadata": {},
   "source": [
    "00 - Faça um programa que leia algo pelo teclado e mostre na\n",
    "tela o seu tipo primitivo."
   ]
  },
  {
   "cell_type": "code",
   "execution_count": 1,
   "metadata": {},
   "outputs": [
    {
     "data": {
      "text/plain": [
       "float"
      ]
     },
     "execution_count": 1,
     "metadata": {},
     "output_type": "execute_result"
    }
   ],
   "source": [
    "numero = float(input('Digite um número real'))\n",
    "type(numero)"
   ]
  },
  {
   "cell_type": "markdown",
   "metadata": {},
   "source": [
    "01 - Crie um programa que leia dois números e mostre a soma\n",
    "entre eles."
   ]
  },
  {
   "cell_type": "code",
   "execution_count": 2,
   "metadata": {},
   "outputs": [
    {
     "name": "stdout",
     "output_type": "stream",
     "text": [
      "10.0\n"
     ]
    }
   ],
   "source": [
    "num1 = float(input('Digite um número real'))\n",
    "num2 = float(input('Digite outro número real'))\n",
    "print(num1 + num2)"
   ]
  },
  {
   "cell_type": "markdown",
   "metadata": {},
   "source": [
    "02 - Crie um programa que leia um número inteiro e mostre na\n",
    "tela o seu sucessor e antecessor."
   ]
  },
  {
   "cell_type": "code",
   "execution_count": 3,
   "metadata": {},
   "outputs": [
    {
     "name": "stdout",
     "output_type": "stream",
     "text": [
      "o antecessor do numero 7 é 6, e seu sucessor é 8\n"
     ]
    }
   ],
   "source": [
    "numero = int(input('Digite um número inteiro'))\n",
    "antecessor_numero = (numero - 1)\n",
    "sucessor_numero = (numero + 1)\n",
    "print(f'o antecessor do numero {numero} é {antecessor_numero}, e seu sucessor é {sucessor_numero}')"
   ]
  },
  {
   "cell_type": "markdown",
   "metadata": {},
   "source": [
    "03 - Crie um programa que leia um número e mostre o seu\n",
    "dobro, triplo e raiz quadrada."
   ]
  },
  {
   "cell_type": "code",
   "execution_count": 5,
   "metadata": {},
   "outputs": [
    {
     "name": "stdout",
     "output_type": "stream",
     "text": [
      "O dobro de 5.0 é 10.0. O triplo de 5.0 é 15.0. E a raiz quadrada de 5.0 é 2.23606797749979\n"
     ]
    }
   ],
   "source": [
    "numero = float(input('Digite um número real'))\n",
    "\n",
    "dobro_numero = numero*2\n",
    "triplo_numero = numero*3\n",
    "raiz_numero = numero**0.5\n",
    "\n",
    "print(f'O dobro de {numero} é {dobro_numero}. O triplo de {numero} é {triplo_numero}. E a raiz quadrada de {numero} é {raiz_numero}')"
   ]
  },
  {
   "cell_type": "markdown",
   "metadata": {},
   "source": [
    "04 - Crie um programa que leia duas notas de um aluno, calcule\n",
    "e mostre sua média."
   ]
  },
  {
   "cell_type": "code",
   "execution_count": 6,
   "metadata": {},
   "outputs": [
    {
     "name": "stdout",
     "output_type": "stream",
     "text": [
      "A média do aluno é 9.0\n"
     ]
    }
   ],
   "source": [
    "nota1 = 10\n",
    "nota2 = 8\n",
    "\n",
    "media = (nota1 + nota2) / 2\n",
    "\n",
    "print(f'A média do aluno é {media}')"
   ]
  },
  {
   "cell_type": "markdown",
   "metadata": {},
   "source": [
    "05 - Crie um programa que leia o valor em metros e o exiba\n",
    "convertido em centímetros e milímetros."
   ]
  },
  {
   "cell_type": "code",
   "execution_count": 7,
   "metadata": {},
   "outputs": [
    {
     "name": "stdout",
     "output_type": "stream",
     "text": [
      "20.0 metros é equivalente a 2000.0 centímetros\n",
      "20.0 metros é equivalente a 20000.0 milímetros\n"
     ]
    }
   ],
   "source": [
    "valor_metro = float(input('Digite um valor em metros'))\n",
    "\n",
    "metro_pra_cm = valor_metro * 100\n",
    "\n",
    "metro_pra_mm = valor_metro * 1000\n",
    "\n",
    "print(f'{valor_metro} metros é equivalente a {metro_pra_cm} centímetros')\n",
    "print(f'{valor_metro} metros é equivalente a {metro_pra_mm} milímetros')"
   ]
  },
  {
   "cell_type": "markdown",
   "metadata": {},
   "source": [
    "06 - Crie um programa que leia um numero qualquer e mostre\n",
    "na tela a sua tabuada."
   ]
  },
  {
   "cell_type": "code",
   "execution_count": 16,
   "metadata": {},
   "outputs": [
    {
     "name": "stdout",
     "output_type": "stream",
     "text": [
      "Tabuada do 23.4\n",
      "23.4 * 1 = 23.4\n",
      "23.4 * 2 = 46.8\n",
      "23.4 * 3 = 70.19999999999999\n",
      "23.4 * 4 = 93.6\n",
      "23.4 * 5 = 117.0\n",
      "23.4 * 6 = 140.39999999999998\n",
      "23.4 * 7 = 163.79999999999998\n",
      "23.4 * 8 = 187.2\n",
      "23.4 * 9 = 210.6\n",
      "23.4 * 10 = 234.0\n"
     ]
    }
   ],
   "source": [
    "num = float(input('Digite um número real para ver sua tabuada'))\n",
    "\n",
    "print(f'Tabuada do {num}')\n",
    "print(f'{num} * 1 = {num * 1}')\n",
    "print(f'{num} * 2 = {num * 2}')\n",
    "print(f'{num} * 3 = {num * 3}')\n",
    "print(f'{num} * 4 = {num * 4}')\n",
    "print(f'{num} * 5 = {num * 5}')\n",
    "print(f'{num} * 6 = {num * 6}')\n",
    "print(f'{num} * 7 = {num * 7}')\n",
    "print(f'{num} * 8 = {num * 8}')\n",
    "print(f'{num} * 9 = {num * 9}')\n",
    "print(f'{num} * 10 = {num * 10}')\n",
    "\n",
    "\n",
    "#OUTRO JEITO DE FAZER QUE AINDA VAMOS APRENDER\n",
    "\n",
    "#for n in range(1, 11):\n",
    "#    print(f'{num} * {n} = {num * n} *')"
   ]
  },
  {
   "cell_type": "markdown",
   "metadata": {},
   "source": [
    "07 - Crie um programa que leia quanto dinheiro a pessoa tem na\n",
    "carteira e mostre quantos dólares ela pode contar."
   ]
  },
  {
   "cell_type": "code",
   "execution_count": 9,
   "metadata": {},
   "outputs": [
    {
     "name": "stdout",
     "output_type": "stream",
     "text": [
      "57.0 reais é equivalente a 11.4 dólares\n"
     ]
    }
   ],
   "source": [
    "valor_reais = float(input('Digite um valor monetário'))\n",
    "valor_dolares = valor_reais * 0.20 #mesma coisa que dividir por 5\n",
    "\n",
    "print(f'{valor_reais} reais é equivalente a {valor_dolares} dólares')"
   ]
  },
  {
   "cell_type": "markdown",
   "metadata": {},
   "source": [
    "08 - Crie um programa que leia a largura e a altura de uma\n",
    "parede em metros, calcule a sua área e a quantidade de tinta\n",
    "necessária para pintá-lo, sabendo que cada litro de tinta pinta\n",
    "uma área de 2m²."
   ]
  },
  {
   "cell_type": "code",
   "execution_count": 10,
   "metadata": {},
   "outputs": [
    {
     "name": "stdout",
     "output_type": "stream",
     "text": [
      "A largura da parede é de 3.0m, e sua altura é de 2.0m.\n",
      "Sabendo que a área da parede é de 6.0m, serão necessários 3.0L de tinta\n"
     ]
    }
   ],
   "source": [
    "largura = float(input('Qual a largura da parede em metros?'))\n",
    "altura = float(input('Qual a altura da parede em metros?'))\n",
    "\n",
    "area = largura * altura\n",
    "litros_tinta = area / 2\n",
    "\n",
    "print(f'A largura da parede é de {largura}m, e sua altura é de {altura}m.')\n",
    "print(f'Sabendo que a área da parede é de {area}m, serão necessários {litros_tinta}L de tinta')"
   ]
  },
  {
   "cell_type": "markdown",
   "metadata": {},
   "source": [
    "09 - Faça um algoritmo que leia o preço do produto e mostre\n",
    "seu novo preço com 5% de desconto."
   ]
  },
  {
   "cell_type": "code",
   "execution_count": 12,
   "metadata": {},
   "outputs": [
    {
     "name": "stdout",
     "output_type": "stream",
     "text": [
      "O preço com desconto é de R$128.25\n"
     ]
    }
   ],
   "source": [
    "preco = float(input('Digite um preço'))\n",
    "desconto_5_porcento = (preco * 5/100)\n",
    "#alterando a variavel preço\n",
    "preco = preco - desconto_5_porcento\n",
    "print(f'O preço com desconto é de R${preco}')"
   ]
  },
  {
   "cell_type": "markdown",
   "metadata": {},
   "source": [
    "10 - Faça um algoritmo que leia o salário do funcionário e\n",
    "mostre seu novo salário com 15% de aumento."
   ]
  },
  {
   "cell_type": "code",
   "execution_count": 13,
   "metadata": {},
   "outputs": [
    {
     "name": "stdout",
     "output_type": "stream",
     "text": [
      "Seu salario antes do aumento era de R$2000.0\n",
      "Seu salario após o aumento é de R$2300.0\n"
     ]
    }
   ],
   "source": [
    "salario = float(input('Qual seu salário?'))\n",
    "print(f'Seu salario antes do aumento era de R${salario}')\n",
    "\n",
    "aumento = (salario * 15/100)\n",
    "#atualizando o valor do salario:\n",
    "salario = salario + aumento\n",
    "\n",
    "print(f'Seu salario após o aumento é de R${salario}')\n"
   ]
  },
  {
   "cell_type": "markdown",
   "metadata": {},
   "source": [
    "11 - Faça um algoritmo que receba um valor em graus Celsius e\n",
    "converta para farenheit."
   ]
  },
  {
   "cell_type": "code",
   "execution_count": 4,
   "metadata": {},
   "outputs": [
    {
     "name": "stdout",
     "output_type": "stream",
     "text": [
      "20.0°C são aproximadamente 68.0°F\n"
     ]
    }
   ],
   "source": [
    "celsius = float(input('Digite uma temperatura em graus Celsius'))\n",
    "converte_fahrenheit = (celsius * 1.8 + 32) #precisei pesquisar a fórmula \n",
    "print(f'{celsius}°C são aproximadamente {converte_fahrenheit}°F')\n"
   ]
  },
  {
   "cell_type": "markdown",
   "metadata": {},
   "source": [
    "12 - Faça um algoritmo que pergunte a quantidade de km\n",
    "percorridos por um carro alugado e a quantidade de dias pelos\n",
    "quais ele foi alugado. Calcule o preço a pagar, sabendo que o\n",
    "carro custa R$60 por dia e R$0.15 por km rodado."
   ]
  },
  {
   "cell_type": "code",
   "execution_count": 14,
   "metadata": {},
   "outputs": [
    {
     "name": "stdout",
     "output_type": "stream",
     "text": [
      "O preço total será de R$ 354.30\n"
     ]
    }
   ],
   "source": [
    "reais_carro_por_dia = 60.0\n",
    "reais_por_km_rodado = 0.15\n",
    "\n",
    "dias_uso = int(input('Por quantos dias o foi alugado'))\n",
    "km_percorridos = float(input('Km percorridos'))\n",
    "pagar = (km_percorridos * reais_por_km_rodado) + (dias_uso * reais_carro_por_dia)\n",
    "\n",
    "print(f'O preço total será de R$ {pagar:.2f}') # ':.nf' define o numero n de casas decimais\n"
   ]
  }
 ],
 "metadata": {
  "kernelspec": {
   "display_name": "Python 3",
   "language": "python",
   "name": "python3"
  },
  "language_info": {
   "codemirror_mode": {
    "name": "ipython",
    "version": 3
   },
   "file_extension": ".py",
   "mimetype": "text/x-python",
   "name": "python",
   "nbconvert_exporter": "python",
   "pygments_lexer": "ipython3",
   "version": "3.12.2"
  }
 },
 "nbformat": 4,
 "nbformat_minor": 2
}
