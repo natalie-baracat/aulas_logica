{
 "cells": [
  {
   "cell_type": "markdown",
   "metadata": {},
   "source": [
    "1. Escreva uma função que utilize uma variável global para contar o número de vezes que foi\n",
    "chamada. A função deve retornar o número atual de chamadas."
   ]
  },
  {
   "cell_type": "code",
   "execution_count": 10,
   "metadata": {},
   "outputs": [
    {
     "name": "stdout",
     "output_type": "stream",
     "text": [
      "1\n",
      "2\n"
     ]
    }
   ],
   "source": [
    "vezes = 0\n",
    "\n",
    "def funcao():\n",
    "    global vezes\n",
    "    vezes += 1\n",
    "    print(vezes)\n",
    "\n",
    "funcao()\n",
    "funcao()"
   ]
  },
  {
   "cell_type": "markdown",
   "metadata": {},
   "source": [
    "2. Crie um algoritmo que receba em variável global o valor atual do dólar e do euro, crie uma\n",
    "função que receba o valor a ser convertido e imprima a conversão em dólar e em euro"
   ]
  },
  {
   "cell_type": "code",
   "execution_count": 14,
   "metadata": {},
   "outputs": [
    {
     "name": "stdout",
     "output_type": "stream",
     "text": [
      "450.00 reais equivale a 87.72 dolares, e 82.42 euros \n"
     ]
    }
   ],
   "source": [
    "valorDolar = 5.13\n",
    "valorEuro = 5.46\n",
    "\n",
    "def conversao(reaisPraConverter): #nao uso \"global\" dentro da funcao, pois so é preciso quando alteramos a variavel. oq nao é o caso\n",
    "    ''' Função que converte reais para dólares e euros'''\n",
    "    print(f'{reaisPraConverter:.2f} reais equivale a {reaisPraConverter / valorDolar:.2f} dolares, e {reaisPraConverter / valorEuro:.2f} euros ')\n",
    "\n",
    "reaisPraConverter = float(input('Digite um valor a ser convertido'))\n",
    "conversao(reaisPraConverter)\n"
   ]
  },
  {
   "cell_type": "markdown",
   "metadata": {},
   "source": [
    "3. Escreva uma função que recebe um nome e o adicione a uma lista de nomes global. Em\n",
    "seguida, escreva outra função que remova um elemento dessa lista global recebendo o nome."
   ]
  },
  {
   "cell_type": "code",
   "execution_count": 23,
   "metadata": {},
   "outputs": [
    {
     "name": "stdout",
     "output_type": "stream",
     "text": [
      "['natalie']\n",
      "['natalie', 'juliana']\n",
      "['natalie', 'juliana', 'abobora']\n",
      "['natalie', 'juliana']\n"
     ]
    }
   ],
   "source": [
    "listaNomes = []\n",
    "\n",
    "\n",
    "def adicionarNome(nome): \n",
    "    listaNomes.append(nome)\n",
    "    print(listaNomes)\n",
    "\n",
    "def removerNome(nome):\n",
    "    listaNomes.remove(nome)\n",
    "    print(listaNomes)\n",
    "\n",
    "\n",
    "adicionarNome((input('Digite um nome')))\n",
    "adicionarNome((input('Digite um nome')))\n",
    "adicionarNome((input('Digite um nome')))\n",
    "removerNome('abobora')\n",
    "\n",
    "   "
   ]
  },
  {
   "cell_type": "markdown",
   "metadata": {},
   "source": [
    "4. Crie um caixa eletrônico: Crie uma variável global para armazenar o saldo, crie função para\n",
    "depositar e sacar, recebendo o valor como parâmetro, crie outra função para consultar o\n",
    "saldo. Crie um menu interativo com while para navegar entre as funções:\n",
    "[1] Depositar \n",
    "[2] Sacar\n",
    "[3] Consultar saldo\n",
    "[4] Parar programa"
   ]
  },
  {
   "cell_type": "code",
   "execution_count": 30,
   "metadata": {},
   "outputs": [
    {
     "name": "stdout",
     "output_type": "stream",
     "text": [
      "Menu\n",
      "[1] Depositar\n",
      "[2] Sacar\n",
      "[3] Consultar\n",
      "[4] Sair\n",
      "Seu saldo é R$257.00\n",
      "Seu saldo é R$180.00\n"
     ]
    }
   ],
   "source": [
    "saldo = 0 \n",
    "\n",
    "def depositar(valor):\n",
    "    global saldo\n",
    "    saldo += valor\n",
    "    consultar_saldo()\n",
    "\n",
    "def sacar(valor):\n",
    "    global saldo\n",
    "    saldo -= valor\n",
    "    consultar_saldo()\n",
    "\n",
    "def consultar_saldo():\n",
    "    print(f'Seu saldo é R${saldo:.2f}')\n",
    "\n",
    "print('Menu')\n",
    "print('[1] Depositar')\n",
    "print('[2] Sacar')\n",
    "print('[3] Consultar')\n",
    "print('[4] Sair')\n",
    "\n",
    "while True:\n",
    "    opcao = input('Digite a opção do Menu')\n",
    "    if opcao == '1':\n",
    "        valor = float(input('Digite o valor que deseja depositar'))\n",
    "        depositar(valor)\n",
    "    elif opcao == '2':\n",
    "        valor = float(input('Digite o valor que deseja sacar'))\n",
    "        sacar(valor)\n",
    "    elif opcao == '3':\n",
    "        consultar_saldo()\n",
    "    elif opcao == '4':\n",
    "        break\n"
   ]
  },
  {
   "cell_type": "markdown",
   "metadata": {},
   "source": [
    "Desenhando um retângulo. Crie um algoritmo que receba em variável global um caractere\n",
    "especial. Em uma função receba 2 parâmetros altura e largura e desenhe de acordo com a\n",
    "largura, a quantidade de vezes que irá repetir o caractere, e de acordo com a altura, o número\n",
    "de linhas que será desenhado. Ex: Caractere +, largura 20 altura 5:\n",
    "\n",
    "* ++++++++++++++++++++\n",
    "* ++++++++++++++++++++\n",
    "* ++++++++++++++++++++\n",
    "* ++++++++++++++++++++\n",
    "* ++++++++++++++++++++"
   ]
  },
  {
   "cell_type": "code",
   "execution_count": 36,
   "metadata": {},
   "outputs": [
    {
     "name": "stdout",
     "output_type": "stream",
     "text": [
      "∎∎∎∎∎∎∎∎∎∎∎∎∎∎∎∎∎∎∎∎\n",
      "∎∎∎∎∎∎∎∎∎∎∎∎∎∎∎∎∎∎∎∎\n",
      "∎∎∎∎∎∎∎∎∎∎∎∎∎∎∎∎∎∎∎∎\n",
      "∎∎∎∎∎∎∎∎∎∎∎∎∎∎∎∎∎∎∎∎\n",
      "∎∎∎∎∎∎∎∎∎∎∎∎∎∎∎∎∎∎∎∎\n",
      "∎∎∎∎∎∎∎∎∎∎∎∎∎∎∎∎∎∎∎∎\n",
      "∎∎∎∎∎∎∎∎∎∎∎∎∎∎∎∎∎∎∎∎\n"
     ]
    }
   ],
   "source": [
    "caractere = '∎'\n",
    "\n",
    "def desenhar_forma(largura, altura):\n",
    "    for i in range(altura):\n",
    "        print(caractere * largura)\n",
    "\n",
    "desenhar_forma(20, 7)"
   ]
  },
  {
   "cell_type": "markdown",
   "metadata": {},
   "source": [
    "6. No exercício anterior, inclua uma docstring e os annotations na função para explicar para o\n",
    "usuário, como utiliza-la"
   ]
  }
 ],
 "metadata": {
  "kernelspec": {
   "display_name": "Python 3",
   "language": "python",
   "name": "python3"
  },
  "language_info": {
   "codemirror_mode": {
    "name": "ipython",
    "version": 3
   },
   "file_extension": ".py",
   "mimetype": "text/x-python",
   "name": "python",
   "nbconvert_exporter": "python",
   "pygments_lexer": "ipython3",
   "version": "3.12.2"
  }
 },
 "nbformat": 4,
 "nbformat_minor": 2
}
