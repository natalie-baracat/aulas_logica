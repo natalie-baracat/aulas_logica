{
 "cells": [
  {
   "cell_type": "markdown",
   "metadata": {},
   "source": [
    "1. Utilizando o comando while, exiba todos os números pares, de 1 a 20."
   ]
  },
  {
   "cell_type": "code",
   "execution_count": 15,
   "metadata": {},
   "outputs": [
    {
     "name": "stdout",
     "output_type": "stream",
     "text": [
      "Os números pares de 1 a 20 são:\n",
      "2\n",
      "4\n",
      "6\n",
      "8\n",
      "10\n",
      "12\n",
      "14\n",
      "16\n",
      "18\n",
      "20\n"
     ]
    }
   ],
   "source": [
    "x = 1 \n",
    "print('Os números pares de 1 a 20 são:')\n",
    "while x <= 20:\n",
    "    if x % 2 == 0:\n",
    "        print(x)\n",
    "    x += 1"
   ]
  },
  {
   "cell_type": "markdown",
   "metadata": {},
   "source": [
    "2. Gere os 6 números do sorteio da mega-sena de forma aleatória."
   ]
  },
  {
   "cell_type": "code",
   "execution_count": 11,
   "metadata": {},
   "outputs": [
    {
     "name": "stdout",
     "output_type": "stream",
     "text": [
      "Seus números são:\n",
      "12\n",
      "49\n",
      "26\n",
      "8\n",
      "34\n",
      "11\n",
      "21\n"
     ]
    }
   ],
   "source": [
    "import random\n",
    "n = 0\n",
    "print('Seus números são:')\n",
    "while n <= 6:\n",
    "    n = n + 1\n",
    "    nr_mega_sena = random.randint(1, 60)\n",
    "    print(nr_mega_sena)"
   ]
  },
  {
   "cell_type": "markdown",
   "metadata": {},
   "source": [
    "3. Receba alguns número e verifique a soma e a quantidade de todos os pares e ímpares\n",
    "digitados, digite 0 para não receber mais"
   ]
  },
  {
   "cell_type": "code",
   "execution_count": 22,
   "metadata": {},
   "outputs": [
    {
     "name": "stdout",
     "output_type": "stream",
     "text": [
      "soma de todos os números = 1, quantidade de pares = 0, quantidade de ímpares = 1\n"
     ]
    }
   ],
   "source": [
    "nr = 1\n",
    "soma = 0 #soma de todos os numeros\n",
    "impar = 0\n",
    "par = 0\n",
    "\n",
    "while True:\n",
    "    nr = int(input('Digite um número (digite 0 caso queira parar)'))\n",
    "    if nr == 0:\n",
    "        break\n",
    "    if nr % 2 == 0:\n",
    "        par = par + 1\n",
    "    else:\n",
    "        impar = impar + 1\n",
    "    soma = nr + soma\n",
    "print(f'soma de todos os números = {soma}, quantidade de pares = {par}, quantidade de ímpares = {impar}')"
   ]
  },
  {
   "cell_type": "markdown",
   "metadata": {},
   "source": [
    "4. Faça um programa em Python que leia 5 valores inteiros e: Encontre e mostre o maior valor; Encontre e mostre o menor valor; Calcule e mostre a média dos números lidos (nao consegui fazer sozinha essa b)"
   ]
  },
  {
   "cell_type": "code",
   "execution_count": null,
   "metadata": {},
   "outputs": [],
   "source": [
    "nr = int(input('Digite um número'))\n",
    "while x <= 5:\n",
    "    \n",
    "    x = x + 1\n"
   ]
  },
  {
   "cell_type": "markdown",
   "metadata": {},
   "source": [
    "5. Faça um programa que receba um número e mostre seu fatorial. Ex. :\n",
    "5! = 5 * 4 * 3 * 2 * 1 = 120"
   ]
  },
  {
   "cell_type": "code",
   "execution_count": null,
   "metadata": {},
   "outputs": [],
   "source": [
    "\n",
    "while :\n",
    "    nr = int(input('Digite um número para descobri seu fatorial'))"
   ]
  },
  {
   "cell_type": "markdown",
   "metadata": {},
   "source": [
    "6. Crie um programa com um menu, onde irá receber 2 números, e pelo menu perguntar qual\n",
    "operação deseja realizar"
   ]
  },
  {
   "cell_type": "markdown",
   "metadata": {},
   "source": [
    "[1] Somar os números\n",
    "[2] Subtrair os números\n",
    "[3] Multiplicar os números\n",
    "[4] Dividir os números\n",
    "[5] Sair"
   ]
  },
  {
   "cell_type": "code",
   "execution_count": null,
   "metadata": {},
   "outputs": [],
   "source": []
  },
  {
   "cell_type": "markdown",
   "metadata": {},
   "source": [
    "7. Crie um sistema bancário, onde começo recebendo o nome do cliente e seu saldo zerado, crie\n",
    "as opções em um menu onde posso, depositar um valor, sacar um valor, consultar o saldo ou\n",
    "sair\n"
   ]
  },
  {
   "cell_type": "markdown",
   "metadata": {},
   "source": [
    "[1] Depositar\n",
    "[2] Sacar\n",
    "[3] Consultar Saldo\n",
    "[4] Sair"
   ]
  },
  {
   "cell_type": "code",
   "execution_count": null,
   "metadata": {},
   "outputs": [],
   "source": []
  }
 ],
 "metadata": {
  "kernelspec": {
   "display_name": "Python 3",
   "language": "python",
   "name": "python3"
  },
  "language_info": {
   "codemirror_mode": {
    "name": "ipython",
    "version": 3
   },
   "file_extension": ".py",
   "mimetype": "text/x-python",
   "name": "python",
   "nbconvert_exporter": "python",
   "pygments_lexer": "ipython3",
   "version": "3.12.2"
  }
 },
 "nbformat": 4,
 "nbformat_minor": 2
}
