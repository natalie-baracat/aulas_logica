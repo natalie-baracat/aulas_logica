{
 "cells": [
  {
   "cell_type": "markdown",
   "metadata": {},
   "source": [
    "1. Pede ao usuário para digitar um número de 1 a 7 e imprime o dia da semana correspondente."
   ]
  },
  {
   "cell_type": "code",
   "execution_count": 1,
   "metadata": {},
   "outputs": [
    {
     "name": "stdout",
     "output_type": "stream",
     "text": [
      "Terça-feira\n"
     ]
    }
   ],
   "source": [
    "dia = int(input('Digite um número inteiro de 1 a 7'))\n",
    "\n",
    "match dia:\n",
    "    case 1:\n",
    "        print(f'Domingo')\n",
    "    case 2:\n",
    "        print(f'Segunda-feira')\n",
    "    case 3:\n",
    "        print(f'Terça-feira')\n",
    "    case 4:\n",
    "        print(f'Quarta-feira')\n",
    "    case 5:\n",
    "        print(f'Quinta-feira')\n",
    "    case 6:\n",
    "        print(f'Sexta-feira')\n",
    "    case 7:\n",
    "        print(f'Sábado')"
   ]
  },
  {
   "cell_type": "markdown",
   "metadata": {},
   "source": [
    "2. Pede ao usuário o ano atual e o ano de nascimento e verifique em qual faixa etária ele\n",
    "pertence considerando (abaixo de 10 é criança, de 11 a 17 adolescente, de 18 a 59 adulto,\n",
    "acima de 60 idoso)"
   ]
  },
  {
   "cell_type": "code",
   "execution_count": 2,
   "metadata": {},
   "outputs": [
    {
     "name": "stdout",
     "output_type": "stream",
     "text": [
      "Você tem 55 anos, então é adulto\n"
     ]
    }
   ],
   "source": [
    "ano_nasc = int(input('Digite seu ano de nascimento'))\n",
    "ano_atual = int(input('Digite o ano atual'))\n",
    "idade = ano_atual - ano_nasc\n",
    "\n",
    "if idade < 10:\n",
    "    print(f'No ano de {ano_atual} você terá {idade} anos, e será uma criança')\n",
    "elif idade >= 10 and idade <= 17:\n",
    "    print(f'No ano de {ano_atual} você terá {idade} anos, e será um adolescente')\n",
    "elif idade >= 18 and idade <= 59:\n",
    "    print(f'No ano de {ano_atual} você terá {idade} anos, e será um adulto')\n",
    "else:\n",
    "    print(f'No ano de {ano_atual} você terá {idade} anos, e será um idoso')\n",
    "    \n",
    "#obs: nao é possivel usar comparadores na estrutura match case"
   ]
  },
  {
   "cell_type": "markdown",
   "metadata": {},
   "source": [
    "3. Pede ao usuário para digitar o nome de um mês e imprime o número de dias naquele mês."
   ]
  },
  {
   "cell_type": "code",
   "execution_count": 11,
   "metadata": {},
   "outputs": [
    {
     "name": "stdout",
     "output_type": "stream",
     "text": [
      "janeiro tem 28 dias (29 se for ano bissexto)\n"
     ]
    }
   ],
   "source": [
    "nome_mes = input('Digite um mês (letras minúsculas)')\n",
    "\n",
    "match nome_mes:\n",
    "    case 'janeiro', 'março,', 'maio', 'julho', 'agosto', 'outubro', 'dezembro':\n",
    "        print(f'{nome_mes} tem 31 dias')\n",
    "    case 'abril', 'junho', 'setembro', 'novembro':\n",
    "        print(f'{nome_mes} tem 30 dias')\n",
    "    case _ :\n",
    "        print(f'{nome_mes} tem 28 dias (29 se for ano bissexto)')"
   ]
  },
  {
   "cell_type": "markdown",
   "metadata": {},
   "source": [
    "4. Pede ao usuário para digitar 2 notas e calcule sua média, e considere a média acima de 7\n",
    "aprovado, entre 5 e 7, em recuperação, abaixo de 5 reprovado."
   ]
  },
  {
   "cell_type": "code",
   "execution_count": 5,
   "metadata": {},
   "outputs": [
    {
     "name": "stdout",
     "output_type": "stream",
     "text": [
      "Sua média é de 6.7. Está de recuperação\n"
     ]
    }
   ],
   "source": [
    "nota1 = float(input('Digite sua nota'))\n",
    "nota2 = float(input('Digite sua outra nota'))\n",
    "media = (nota1 + nota2) / 2\n",
    "\n",
    "if media >= 7:\n",
    "    print(f'Sua média é de {media}. Está aprovado')\n",
    "elif media >= 5 and media < 7:\n",
    "    print(f'Sua média é de {media}. Está de recuperação')\n",
    "else:\n",
    "    print(f'Sua média é de {media}. Está reprovado')"
   ]
  },
  {
   "cell_type": "markdown",
   "metadata": {},
   "source": [
    "5. Pede o salário do funcionário, e calcular o aumento que ele terá, considerando se ganhar até\n",
    "2000, reajuste de 12%, até 4000, reajuste de 10%, acima de 4000 reajuste de 8%, exibir o\n",
    "novo salário"
   ]
  },
  {
   "cell_type": "code",
   "execution_count": 12,
   "metadata": {},
   "outputs": [
    {
     "name": "stdout",
     "output_type": "stream",
     "text": [
      "Seu salário após o aumento é de 3080.0\n"
     ]
    }
   ],
   "source": [
    "salario = float(input('Digite seu salário'))\n",
    "aumento12 = salario * 12 / 100\n",
    "aumento10 = salario * 10 / 100\n",
    "aumento8 = salario * 8 / 100\n",
    "\n",
    "if salario <= 2000:\n",
    "    print(f'Seu salário após o aumento é de {salario + aumento12}')\n",
    "elif salario <= 4000:\n",
    "    print(f'Seu salário após o aumento é de {salario + aumento10}')\n",
    "else:\n",
    "    print(f'Seu salário após o aumento é de {salario + aumento8}')"
   ]
  }
 ],
 "metadata": {
  "kernelspec": {
   "display_name": "Python 3",
   "language": "python",
   "name": "python3"
  },
  "language_info": {
   "codemirror_mode": {
    "name": "ipython",
    "version": 3
   },
   "file_extension": ".py",
   "mimetype": "text/x-python",
   "name": "python",
   "nbconvert_exporter": "python",
   "pygments_lexer": "ipython3",
   "version": "3.12.2"
  }
 },
 "nbformat": 4,
 "nbformat_minor": 2
}
