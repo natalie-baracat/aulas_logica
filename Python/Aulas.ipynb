{
 "cells": [
  {
   "cell_type": "markdown",
   "metadata": {},
   "source": [
    "16/02/2024 - Comandos de sáida (print) / Tipos de dados (string, int, float, bool) / Operaçõpes aritméticas (+, -, *, /, %, **)"
   ]
  },
  {
   "cell_type": "code",
   "execution_count": 1,
   "metadata": {},
   "outputs": [
    {
     "name": "stdout",
     "output_type": "stream",
     "text": [
      "Olá, mundo (=｀ω´=)\n",
      "Meu primeiro código em Python.\n",
      "Meu primeiro código em Python. Denovo.\n",
      "Descobri só hoje que o nome é uma referência a Monty Python...muito bom\n",
      "1895\n",
      "7.7\n",
      "True\n",
      "Sesi\n",
      "993\n",
      "11\n",
      "string 10 0.9 False\n",
      "20000\n",
      "993\n",
      "994907488\n",
      "259.0\n",
      "1\n",
      "27\n",
      "4\n",
      "5.0\n",
      "7.0\n"
     ]
    }
   ],
   "source": [
    "#meu primeiro hello world!!!!1\n",
    "#feito por natalie 16/02/2024\n",
    "\n",
    "print('Olá, mundo (=｀ω´=)') #a funcao print imprime a mensagem entre aspas na tela \n",
    "print('Meu primeiro código em Python.')\n",
    "print('Meu primeiro código em Python. Denovo.') #para duplicar linhas: shift + alt + seta para baixo\n",
    "print('Descobri só hoje que o nome é uma referência a Monty Python...muito bom')\n",
    "    \n",
    "print(1895) #p/ printar numeros inteiros, nao se usa aspas. se colocar numeros entre aspas, eles tornam-se strings e nao reconhecidos como numeros\n",
    "print(7.7) #numero float. nao possui aspas\n",
    "print(True) #campo logico (verdadeiro ou falso). nao possui aspas\n",
    "print('Sesi') #tipo string. possui aspas\n",
    "\n",
    "print(1000 - 7) #numeros e sinais realizam operaçoes matematicas\n",
    "print('1' + '1') #strings e sinais realizam concatenaçao (juntar uma coisa a outra)\n",
    "\n",
    "print('string', 10, 0.9, False) #separar por virgulas para imprimir varias info ao mesmo tempo\n",
    "\n",
    "print(16700 + 3300) #o + é operador de SOMA\n",
    "print(1000 - 7) #o - é operador de SUBTRACAO\n",
    "print(508384 * 1957) #o * é operador de MULTIPLICAÇAO\n",
    "print(777 / 3) #o / é operador de DIVISAO              *resultados de divisao sao sempre do tipo float\n",
    "print(31 % 2) #o % é operador do RESTO DA DIVISAO (MODULO)\n",
    "print(3 ** 3) #o ** é operador de ELEVAR À POTENCIAS. x ** 2 = x²\n",
    "print(9 // 2) #o // é operador da DIVISAO INTEIRA\n",
    "print (25 ** 0.5) #o **0.5 é o operador da RADICIAÇÃO\n",
    "\n",
    "print( (8 + 6) / 2 ) #exemplo de calculo da media. importante: lembre-se da ordem do PEMDAS\n"
   ]
  },
  {
   "cell_type": "markdown",
   "metadata": {},
   "source": [
    "22/02/2024 - Comandos de entrada (input) / variáveis / pseudocódigo"
   ]
  },
  {
   "cell_type": "code",
   "execution_count": 47,
   "metadata": {},
   "outputs": [
    {
     "name": "stdout",
     "output_type": "stream",
     "text": [
      "curso\n",
      "Desenvolvimento de sistemas\n",
      "curso Desenvolvimento de sistemas\n",
      "olá, natalie . você tem 16 anos, e hoje está fazendo 27.5 °C\n",
      "olá natalie. você tem 16 anos, e hoje está fazendo 27.5°C\n",
      "seu nome é lenin mulambo do caminhao[, você tem 16 anos, e você pesa 5e+41kg\n",
      "<class 'str'> <class 'int'> <class 'float'>\n"
     ]
    }
   ],
   "source": [
    "#DECLARANDO MINHA PRIMEIRA VARIAVEL o(*￣▽￣*)o\n",
    "\n",
    "#lemos da seguinte forma: variavel curso recebe/armazena na memória(=) a string \"Desenvolvimento de sistemas\"\n",
    "curso = 'Desenvolvimento de sistemas' #computador logo entende o valor como tipo \"string\"\n",
    "#para imprimir uma variavel nao usa '':\n",
    "print('curso')\n",
    "#para imprimir o valor armazenado de forma correta:\n",
    "print(curso) \n",
    "#para imprimir mais de um dado na mesma linha:\n",
    "print('curso', curso)\n",
    "\n",
    "#CRIANDO E ATRIBUINDO MAIS VARIAVEIS + COLOCANDO STRING E VARIAVEIS EM UMA LINHA\n",
    "\n",
    "idade = 16 #computador logo entende o valor como tipo \"int\"\n",
    "temperatura = 27.5 #computador logo entende o valor como tipo \"float\"\n",
    "nome = 'natalie' #computador logo entende o valor como tipo \"string\"\n",
    "\n",
    "#imprima o valor das 3 variaveis em uma unica linha\n",
    "print('olá,', nome, '. você tem', idade, 'anos,', 'e hoje está fazendo', temperatura, '°C')\n",
    "#outro jeito de fazer - utilizando f (FORMATAR):\n",
    "print(f'olá {nome}. você tem {idade} anos, e hoje está fazendo {temperatura}°C') #achei esse melhor\n",
    " \n",
    "#EXEMPLO DE ERRO DE VARIAVEL\n",
    "        #na linha abaixo ocorrerá o erro \"name 'salario' not defined\", pois nao ha variavel com esse nome\n",
    "        #print('Salário', salario)\n",
    "\n",
    "#DECLARANDO VARIAVEIS LOGICAS; RECEBEM APENAS TRUE OU FALSE\n",
    "\n",
    "chovendo = False\n",
    "dia = True \n",
    "\n",
    "#SOBRE NOMES DE VARIAVEIS:\n",
    "        #sempre começar com letras ou _\n",
    "        #unicos simbolos permitidos sao _ ou numeros\n",
    "        #nao deve conter espaços e acento\n",
    "        #usar nomes descritivos, claros \n",
    "        #nao utilizar palavras reservadas (print, none, or, float, True etc.) \n",
    "\n",
    "#DECLARANDO UMA CONSTANTE\n",
    "        #diferentemente das variaveis, que podem ser alteradas ao longo do código, a constante é fixa\n",
    "        #por padrao, sao MAIUSCULAS\n",
    "\n",
    "PI = 3.14159265359\n",
    "\n",
    "#PADROES DE NOMENCLATURAS\n",
    "        #camelCase: primeira palavra com letra minuscula, outras palavras com maiuscula\n",
    "        #PascalCase: primeira letra sempre maiuscula\n",
    "        #kebab-case: palavras separadas por traço (-)\n",
    "        #snake_case: palavras separadas por underline(_); este é o padrao do Python\n",
    "\n",
    "#TRANSCREVENDO PSEUDOCODIGO PARA PYTHON + ENTRADA (INPUT) DE DADOS + CONVERTENDO TIPOS DE DADOS RECEBIDOS NO [INPUT]\n",
    "\n",
    "#isso é um PSEUDOCODIGO:\n",
    "\n",
    "#passo1: receber (=) o nome da pessoa\n",
    "#passo2: receber a idade da pessoa\n",
    "#passo3: receber o peso da pessoa\n",
    "#passo4: exibir (imprimir) o nome, idade, e peso\n",
    "nome = input('qual é o seu nome?') #observação: tudo que recebemos do input é do tipo string\n",
    "idade = int(input('quantos anos você tem? não vale mentir')) #o \"int()\" converte string para int\n",
    "massa = float(input('quanto você pesa?')) #o \"float()\" converte string para float \n",
    "print(f'seu nome é {nome}, você tem {idade} anos, e você pesa {massa}kg')\n",
    "\n",
    "#EXIBINDO O TIPOS DAS VARIAVEIS\n",
    "print(type(nome), type(idade), type(massa)) \n",
    "\n",
    "#SOBRE A ORDEM DO CODIGO\n",
    "        #o python é uma linguagem INTERPRETADA, ou seja, é interpretado linha por linha\n",
    "        #sendo assim, muitas coisas devem estar estruturadas na ordem dos acontecimentos. exemplo: variavel deve ser definida antes de ser exibida"
   ]
  },
  {
   "cell_type": "markdown",
   "metadata": {},
   "source": [
    "23/02/2024 - Operações com variáveis"
   ]
  },
  {
   "cell_type": "code",
   "execution_count": 9,
   "metadata": {},
   "outputs": [
    {
     "name": "stdout",
     "output_type": "stream",
     "text": [
      "108.0\n"
     ]
    }
   ],
   "source": [
    "#SOMA\n",
    "    #lembre de CONVERTER as info de str para float:\n",
    "    #se nao fizer isso, o resultado da soma sera uma CONCATENAÇAO\n",
    "\n",
    "#receber primeiro numero\n",
    "numero1 = float(input('digite um número real')) \n",
    "#receber segundo numero\n",
    "numero2 = float(input('digite mais um número real'))\n",
    "#receber terceiro numero\n",
    "numero3 = float(input('digite mais um número real'))\n",
    "#somar o primeiro numero + segundo + terceiro\n",
    "soma = (numero1 + numero2 + numero3) #essa variavel nao é necessaria\n",
    "#imprimir o resultado\n",
    "print(soma)\n"
   ]
  },
  {
   "cell_type": "code",
   "execution_count": 16,
   "metadata": {},
   "outputs": [
    {
     "name": "stdout",
     "output_type": "stream",
     "text": [
      "-189.0\n"
     ]
    }
   ],
   "source": [
    "#MULTIPLICAÇAO \n",
    "#(tentando fazer sozinho dessa vez)\n",
    "\n",
    "num1 = float(input('digite um numero real para ser multiplicado'))\n",
    "num2 = float(input('digite outro numero real'))\n",
    "num3 = float(input('digite outro real'))\n",
    "print(num1 * num2 * num3)"
   ]
  },
  {
   "cell_type": "code",
   "execution_count": 23,
   "metadata": {},
   "outputs": [
    {
     "name": "stdout",
     "output_type": "stream",
     "text": [
      "1650\n"
     ]
    }
   ],
   "source": [
    "#ALTERANDO VALOR VARIAVEL\n",
    "\n",
    "#receba o valor do celular\n",
    "celular = 2000\n",
    "#receba o valor do desconto\n",
    "desconto = 350\n",
    "#alterar o valor da variavel\n",
    "celular = celular - desconto\n",
    "print(celular)\n"
   ]
  },
  {
   "cell_type": "code",
   "execution_count": 28,
   "metadata": {},
   "outputs": [
    {
     "name": "stdout",
     "output_type": "stream",
     "text": [
      "2.0\n",
      "4.0\n",
      "o valor final é 120.0\n"
     ]
    }
   ],
   "source": [
    "#CALCULOS COM VARIAVEIS\n",
    "\n",
    "numero = 4/2\n",
    "print(numero)\n",
    "numero = numero**2\n",
    "print(numero)\n",
    "numero = numero*(50-20)\n",
    "print(f'o valor final é {numero}')"
   ]
  },
  {
   "cell_type": "code",
   "execution_count": 32,
   "metadata": {},
   "outputs": [
    {
     "name": "stdout",
     "output_type": "stream",
     "text": [
      "você deve cobrar 12000 reais\n"
     ]
    }
   ],
   "source": [
    "#INTERPRETANDO\n",
    "\n",
    "horas_por_dia = 8\n",
    "dias_de_trabalho = 15\n",
    "reais_por_hora = 100\n",
    "\n",
    "#passo1: descobrir quantas h de trabalho vamos dedicar ao projeto (15 dias * 8h = 120h)\n",
    "horasTotal = dias_de_trabalho * horas_por_dia\n",
    "#passo2: custo de 1h multiplicado pelo resultado do passo1 (100 reais * 120h = 12000)\n",
    "custo_total = reais_por_hora * horasTotal\n",
    "#passo3: exibir o resultado final do custo do projeto (12000)\n",
    "print(f'você deve cobrar {custo_total} reais')"
   ]
  },
  {
   "cell_type": "markdown",
   "metadata": {},
   "source": [
    "29/02/2024 - Operações relacionais e estrutura condicional"
   ]
  },
  {
   "cell_type": "code",
   "execution_count": 17,
   "metadata": {},
   "outputs": [
    {
     "name": "stdout",
     "output_type": "stream",
     "text": [
      "a > b? False\n",
      "a = b? False\n",
      "a ≠ b? True\n",
      "a = 2? True\n"
     ]
    }
   ],
   "source": [
    "#OPERADORES RELACIONAIS\n",
    "\n",
    "a = 2\n",
    "b = 3\n",
    "print(f'a > b? {a > b}')\n",
    "print(f'a = b? {a == b}')\n",
    "print(f'a ≠ b? {a != b}')\n",
    "print(f'a = 2? {a == 2}')"
   ]
  },
  {
   "cell_type": "code",
   "execution_count": 20,
   "metadata": {},
   "outputs": [
    {
     "name": "stdout",
     "output_type": "stream",
     "text": [
      "Posso entrar\n"
     ]
    }
   ],
   "source": [
    "#ESTRUTURA DE CONDIÇÃO (IF)\n",
    "\n",
    "tenho_ingresso = True\n",
    "if tenho_ingresso == True:\n",
    "    print('Posso entrar') #é NESSESÁRIA a tabulação antes de print\n",
    "print('Fim')"
   ]
  },
  {
   "cell_type": "code",
   "execution_count": 21,
   "metadata": {},
   "outputs": [
    {
     "name": "stdout",
     "output_type": "stream",
     "text": [
      "Maior de idade\n",
      "Fim\n"
     ]
    }
   ],
   "source": [
    "#passo1: receber idade\n",
    "idade = int(input('Qual sua idade'))\n",
    "#passo2: SE for maior ou igual a 18\n",
    "if idade >= 18 :\n",
    "    #passo: então imprimir\n",
    "    print('Maior de idade')\n",
    "print('Fim')\n"
   ]
  },
  {
   "cell_type": "code",
   "execution_count": 24,
   "metadata": {},
   "outputs": [
    {
     "name": "stdout",
     "output_type": "stream",
     "text": [
      "Estou barrado do show\n",
      "Fim\n"
     ]
    }
   ],
   "source": [
    "#ESTRUTURA DE CONDIÇÃO (IF ELSE)\n",
    "    #obs: é NESSESÁRIA a tabulação antes do print (dentro do IF)\n",
    "    \n",
    "tenho_ingresso = False\n",
    "if tenho_ingresso == True:\n",
    "    print('Posso entrar') \n",
    "else:\n",
    "    print('Estou barrado do show')\n",
    "print('Fim')"
   ]
  },
  {
   "cell_type": "code",
   "execution_count": 26,
   "metadata": {},
   "outputs": [
    {
     "name": "stdout",
     "output_type": "stream",
     "text": [
      "Menor\n",
      "Fim\n"
     ]
    }
   ],
   "source": [
    "#MAIOR OR MENOR DE IDADE \n",
    "\n",
    "idade = int(input('Qual sua idade'))\n",
    "if idade >= 18 :\n",
    "    print('Maior de idade')\n",
    "else:\n",
    "    print('Menor')\n",
    "print('Fim')"
   ]
  },
  {
   "cell_type": "markdown",
   "metadata": {},
   "source": [
    "01/03/2024 - Operadores lógicos e estrutura condicional"
   ]
  },
  {
   "cell_type": "code",
   "execution_count": 7,
   "metadata": {},
   "outputs": [
    {
     "name": "stdout",
     "output_type": "stream",
     "text": [
      "False\n",
      "False\n",
      "True\n"
     ]
    }
   ],
   "source": [
    "#AND, OR\n",
    "\n",
    "a = 2\n",
    "b = 3\n",
    "c = 5\n",
    "#      False   E   False\n",
    "print((a > 2) and (b < 2)) #False\n",
    "\n",
    "#      False  OU   False\n",
    "print((a > 2) or (b < 2)) #False\n",
    "\n",
    "#      False  OU   True\n",
    "print((a > 2) or (b < 5)) #True\n"
   ]
  },
  {
   "cell_type": "code",
   "execution_count": null,
   "metadata": {},
   "outputs": [],
   "source": [
    "#ORDEM DE PRECEDENCIA \n",
    "#aritméticos    ()\n",
    "#               **\n",
    "#               */\n",
    "#               *\n",
    "#               +-\n",
    "#relacionais    > < >= <= == !=\n",
    "#lógicos        and\n",
    "#               or\n",
    "#               not\n"
   ]
  },
  {
   "cell_type": "markdown",
   "metadata": {},
   "source": [
    "01/03/2024 - Estrutura condicional composta: elif"
   ]
  },
  {
   "cell_type": "code",
   "execution_count": 16,
   "metadata": {},
   "outputs": [
    {
     "name": "stdout",
     "output_type": "stream",
     "text": [
      "IMC = 17.42; Abaixo do peso.\n"
     ]
    }
   ],
   "source": [
    "#CALCULANDO IMC COM ELIF\n",
    "\n",
    "altura = float(input('Qual é a sua altura em metros?'))\n",
    "peso = float(input('Qual é a seu peso em kg?'))\n",
    "imc = peso / (altura**2) \n",
    "\n",
    "if imc < 18.5:\n",
    "    print(f'IMC = {imc:.2f}; Abaixo do peso.')\n",
    "elif imc >= 18.6 and imc <= 24.9:\n",
    "    print(f'IMC = {imc:.2f}; Peso ideal.')\n",
    "elif imc >= 25 and imc <= 29:\n",
    "    print(f'IMC = {imc:.2f}; Sobrepeso.')\n",
    "else:\n",
    "    print(f'IMC = {imc:.2f}; Obesidade.')\n"
   ]
  },
  {
   "cell_type": "code",
   "execution_count": 17,
   "metadata": {},
   "outputs": [
    {
     "name": "stdout",
     "output_type": "stream",
     "text": [
      "Triângulo isósceles\n"
     ]
    }
   ],
   "source": [
    "#VERIFICAR SE O TRIANGULO SERA EQUILATERO, ISOSCELES OU ESCALENO\n",
    "\n",
    "lado1 = int(input('Qual o valor do 1º lado?'))\n",
    "lado2 = int(input('Qual o valor do 2º lado?'))\n",
    "lado3 = int(input('Qual o valor do 3º lado?'))\n",
    "\n",
    "if (lado1 == lado2) and (lado2 == lado3):\n",
    "    print('Triângulo equilátero')\n",
    "elif (lado1 != lado2) and (lado2 != lado3):\n",
    "    print('Triângulo escaleno')\n",
    "else:\n",
    "    print('Triângulo isósceles')"
   ]
  },
  {
   "cell_type": "code",
   "execution_count": 19,
   "metadata": {},
   "outputs": [
    {
     "name": "stdout",
     "output_type": "stream",
     "text": [
      "A letra \"e\" é uma vogal\n"
     ]
    }
   ],
   "source": [
    "#VERIFICAR SE UMA LETRA É VOGAL\n",
    "\n",
    "letra = input('Digite uma letra')\n",
    "\n",
    "if letra == 'a' or letra == 'e' or letra == 'i' or letra == 'o' or letra == 'u':\n",
    "    print(f'A letra \"{letra}\" é uma vogal')\n",
    "else:\n",
    "    print(f'A letra \"{letra}\" é uma consoante')"
   ]
  },
  {
   "cell_type": "markdown",
   "metadata": {},
   "source": [
    "07/03/2024 - Estrutura condicional aninhada / Match Case (chamado de Switch Case em outras linguagens)"
   ]
  },
  {
   "cell_type": "code",
   "execution_count": 5,
   "metadata": {},
   "outputs": [
    {
     "name": "stdout",
     "output_type": "stream",
     "text": [
      "Seu voto é facultativo.\n"
     ]
    }
   ],
   "source": [
    "#ESTRUTURA CONDICIONAL ANINHADA\n",
    "\n",
    "#ah, o elif pode evitar essa ninhada toda o_O porem é possivel fazer assim tambem\n",
    "\n",
    "idade = int(input('Digite sua idade'))\n",
    "\n",
    "if idade >= 18 and idade <= 70:\n",
    "    print('Você é obrigado a votar.')\n",
    "else:\n",
    "    if idade < 16:\n",
    "        print('Você não pode votar.')\n",
    "    else: #este \"else\" não pode ser separado do if anterior, pois só de pode ter 1 else a cada if\n",
    "        if idade >= 16 or idade > 70:\n",
    "            print('Seu voto é facultativo.')"
   ]
  },
  {
   "cell_type": "code",
   "execution_count": 12,
   "metadata": {},
   "outputs": [
    {
     "name": "stdout",
     "output_type": "stream",
     "text": [
      "1907 - 12 = 1895\n"
     ]
    }
   ],
   "source": [
    "#MATCH CASE\n",
    "\n",
    "n1 = int(input('Digite um número inteiro'))\n",
    "n2 = int(input('Digite um número inteiro'))\n",
    "operador = input('Digite um operador matemático + - * / **')\n",
    "\n",
    "match operador: #essa parte seria como \"if operador == '+'\"\n",
    "    case '+':\n",
    "        print(f'{n1} {operador} {n2} = {n1 + n2}')\n",
    "    case '-':\n",
    "        print(f'{n1} {operador} {n2} = {n1 - n2}')\n",
    "    case '*':\n",
    "        print(f'{n1} {operador} {n2} = {n1 * n2}')\n",
    "    case '/':\n",
    "        print(f'{n1} {operador} {n2} = {n1 / n2}')\n",
    "    case '**':\n",
    "        print(f'{n1} {operador} {n2} = {n1 ** n2}')\n",
    "    case _ : #essa parte seria como o \"else\"\n",
    "        print('Operador inválido.')"
   ]
  },
  {
   "cell_type": "markdown",
   "metadata": {},
   "source": [
    "08/03/2024 - Laço de repetição: While"
   ]
  },
  {
   "cell_type": "code",
   "execution_count": 5,
   "metadata": {},
   "outputs": [
    {
     "name": "stdout",
     "output_type": "stream",
     "text": [
      "All we are, all we are is bullets I mean this\n",
      "All we are, all we are is bullets I mean this\n",
      "All we are, all we are is bullets I mean this\n",
      "All we are, all we are is bullets I mean this\n",
      "All we are, all we are is bullets I mean this\n",
      "All we are, all we are is bullets I mean this\n",
      "All we are, all we are is bullets I mean this\n",
      "All we are, all we are is bullets I mean this\n",
      "All we are, all we are is bullets I mean this\n",
      "All we are, all we are is bullets I mean this\n",
      "Fim\n"
     ]
    }
   ],
   "source": [
    "#WHILE - laço de repetição com uma variável de controle\n",
    "\n",
    "x = 1\n",
    "while x <= 10: \n",
    "    print('All we are, all we are is bullets I mean this')\n",
    "    x = x + 1\n",
    "print('Fim')"
   ]
  },
  {
   "cell_type": "code",
   "execution_count": 9,
   "metadata": {},
   "outputs": [
    {
     "name": "stdout",
     "output_type": "stream",
     "text": [
      "10\n",
      "9\n",
      "8\n",
      "7\n",
      "6\n",
      "5\n",
      "4\n",
      "3\n",
      "2\n",
      "1\n",
      "0\n",
      "Feliz ano novo! 🎆\n"
     ]
    }
   ],
   "source": [
    "#WHILE - laço de repetição com uma variável de controle\n",
    "\n",
    "import time #importa biblioteca \"time\"\n",
    "\n",
    "x = 10\n",
    "while x >= 0:\n",
    "    print(x)\n",
    "    time.sleep(1) #dando uma pausa de 1 segundo na execuçao\n",
    "    x = x - 1\n",
    "print('Feliz ano novo! 🎆')"
   ]
  },
  {
   "cell_type": "code",
   "execution_count": 21,
   "metadata": {},
   "outputs": [
    {
     "name": "stdout",
     "output_type": "stream",
     "text": [
      "Seja bem vindo, Natalie (❁´◡`❁)\n",
      "Seja bem vindo, sair (❁´◡`❁)\n"
     ]
    }
   ],
   "source": [
    "#WHILE - mensagem\n",
    "\n",
    "texto = ''\n",
    "while texto != 'sair':\n",
    "    texto = input('Digite seu nome (digite \"sair\" para encerrar)')\n",
    "    print(f'Seja bem vindo, {texto} (❁´◡`❁)')"
   ]
  },
  {
   "cell_type": "code",
   "execution_count": 19,
   "metadata": {},
   "outputs": [
    {
     "name": "stdout",
     "output_type": "stream",
     "text": [
      "Você excedeu o limite de tentativas. Você será preso por tentar hackear a rede.\n"
     ]
    }
   ],
   "source": [
    "#WHILE - interromper codigo com BREAK\n",
    "\n",
    "senha_senai = '12345'\n",
    "nr_tentativa = 0\n",
    "\n",
    "while True:\n",
    "    senha = input('Qual é a senha? 🤨 (Digite \"desisto\" para sair)')\n",
    "    if senha == senha_senai:\n",
    "        print('Você hackeou a rede! 😨')\n",
    "        break\n",
    "    elif senha == 'desisto':\n",
    "        print('Não conseguiu, né?')\n",
    "        break\n",
    "    else:\n",
    "        nr_tentativa = nr_tentativa + 1\n",
    "        if nr_tentativa == 3:\n",
    "            print('Você excedeu o limite de tentativas. Você será preso por tentar hackear a rede.')\n",
    "            break"
   ]
  },
  {
   "cell_type": "markdown",
   "metadata": {},
   "source": [
    "21/03/2024 - Revisão de while (faltei na aula)"
   ]
  },
  {
   "cell_type": "code",
   "execution_count": 2,
   "metadata": {},
   "outputs": [
    {
     "name": "stdout",
     "output_type": "stream",
     "text": [
      "FIM\n"
     ]
    }
   ],
   "source": [
    "resp = 'S'\n",
    "while resp == 'S' :\n",
    "    resp = input('Deseja continuar? [S/N]')\n",
    "\n",
    "print('FIM')"
   ]
  },
  {
   "cell_type": "code",
   "execution_count": 3,
   "metadata": {},
   "outputs": [
    {
     "name": "stdout",
     "output_type": "stream",
     "text": [
      "Valor total R$  21.00 quantidade Produto = 2\n"
     ]
    }
   ],
   "source": [
    "soma = 0\n",
    "qtde = 0\n",
    "while True :\n",
    "    valor = float(input('Digite o valor do produto [-1 para encerrar]'))\n",
    "    if valor == -1 :\n",
    "        break\n",
    "    soma = valor + soma\n",
    "    qtde = qtde + 1\n",
    "   \n",
    "\n",
    "print(f'Valor total R$ {soma: .2f} quantidade Produto = {qtde}')"
   ]
  },
  {
   "cell_type": "code",
   "execution_count": 2,
   "metadata": {},
   "outputs": [
    {
     "name": "stdout",
     "output_type": "stream",
     "text": [
      "-=-=-=-=-==-=-=-=-=-=-=-=-=-=-=-=-=-\n",
      " (ﾉ◕ヮ◕)ﾉ*:･ﾟJOGO DA ADIVINHAÇÂO ✧\n",
      "-=-=-=-=-==-=-=-=-=-=-=-=-=-=-=-=-=-\n",
      "Você chutou 60. Tente um número menor\n",
      "Você chutou 50. Tente um número menor\n",
      "Você chutou 40. Tente um número menor\n",
      "Você chutou 40. Tente um número menor\n",
      "Você chutou 30. Tente um número menor\n",
      "Você chutou 20. Tente um número menor\n",
      "Você chutou 10. Tente um número maior\n",
      "Você chutou 11. Parabéns!!! Você acertou :3\n"
     ]
    }
   ],
   "source": [
    "import random\n",
    "nrSorteado = random.randint(1, 100)\n",
    "#print(nrSorteado)\n",
    "\n",
    "print('-=-=-=-=-==-=-=-=-=-=-=-=-=-=-=-=-=-')\n",
    "print(' (ﾉ◕ヮ◕)ﾉ*:･ﾟJOGO DA ADIVINHAÇÂO ✧')\n",
    "print('-=-=-=-=-==-=-=-=-=-=-=-=-=-=-=-=-=-')\n",
    "\n",
    "acertou = False\n",
    "while acertou == False :\n",
    "    chute = int(input('🕵🏻‍♀️Digite um número entre 1 e 100'))\n",
    "    if chute == nrSorteado :\n",
    "        print(f'Você chutou {chute}. Parabéns!!! Você acertou :3')\n",
    "        acertou = True\n",
    "    elif chute > nrSorteado :\n",
    "        print(f'Você chutou {chute}. Tente um número menor')\n",
    "    else :\n",
    "        print(f'Você chutou {chute}. Tente um número maior')\n",
    "\n",
    "        "
   ]
  },
  {
   "cell_type": "markdown",
   "metadata": {},
   "source": [
    "22/03/2024 - Laço de repetição: For"
   ]
  },
  {
   "cell_type": "code",
   "execution_count": 16,
   "metadata": {},
   "outputs": [
    {
     "name": "stdout",
     "output_type": "stream",
     "text": [
      "O valor de x é 0\n",
      "O valor de x é 1\n",
      "O valor de x é 2\n",
      "O valor de x é 3\n",
      "O valor de x é 4\n",
      "O valor de x é 5\n",
      "O valor de x é 6\n",
      "O valor de x é 7\n",
      "O valor de x é 8\n",
      "O valor de x é 9\n",
      "O valor de x é 10\n"
     ]
    }
   ],
   "source": [
    "#FOR\n",
    "#o for normalmente é utilizado quando voce quer repetir um bloco de codigo um numero fixo de vezes\n",
    "\n",
    "for numero in range(11):\n",
    "    print(f'O valor de x é {numero}')\n",
    "\n"
   ]
  },
  {
   "cell_type": "code",
   "execution_count": 21,
   "metadata": {},
   "outputs": [
    {
     "name": "stdout",
     "output_type": "stream",
     "text": [
      "Entregando os notebooks\n",
      "Pegar o notebook nº 1\n",
      "Pegar o mouse nº 1\n",
      "Levar o notebook até o (a) natalie ah + limda\n",
      "Pegar o notebook nº 2\n",
      "Pegar o mouse nº 2\n",
      "Levar o notebook até o (a) atumalaka\n",
      "Não pegar o notebook 3\n",
      "Começar a aula\n"
     ]
    }
   ],
   "source": [
    "#SIMULANDO OS PROFESSORES ENTREGANDO OS NOTEBOOKS\n",
    "\n",
    "print('Entregando os notebooks')\n",
    "for nr in range(3):\n",
    "    nr += 1                      #para \"corrigir\" o codigo, que comeca a contar do 0\n",
    "    nome = input(f'Quem é o nº {nr}?')\n",
    "    presente = input(f'O (A) {nome} veio para a escola? (s ou n)')\n",
    "    if presente == 's':\n",
    "        print(f'Pegar o notebook nº {nr}')\n",
    "        print(f'Pegar o mouse nº {nr}')\n",
    "        print(f'Levar o notebook até o (a) {nome}')\n",
    "    else:\n",
    "        print(f'Não pegar o notebook {nr}')\n",
    "print('Começar a aula')"
   ]
  },
  {
   "cell_type": "code",
   "execution_count": 22,
   "metadata": {},
   "outputs": [
    {
     "name": "stdout",
     "output_type": "stream",
     "text": [
      "5\n",
      "6\n",
      "7\n",
      "8\n",
      "9\n",
      "10\n",
      "11\n",
      "12\n",
      "13\n",
      "14\n"
     ]
    }
   ],
   "source": [
    "#DEFININDO UM RANGE\n",
    "\n",
    "for x in range(5, 15):\n",
    "    print(x)"
   ]
  },
  {
   "cell_type": "code",
   "execution_count": 23,
   "metadata": {},
   "outputs": [
    {
     "name": "stdout",
     "output_type": "stream",
     "text": [
      "5\n",
      "7\n",
      "9\n",
      "11\n",
      "13\n",
      "15\n",
      "17\n",
      "19\n",
      "21\n",
      "23\n",
      "25\n",
      "27\n",
      "29\n"
     ]
    }
   ],
   "source": [
    "#DEFININDO PASSO/SALTO (QUAL VALOR SERÁ INCREMENTADO)\n",
    "\n",
    "for x in range(5, 30, 2):\n",
    "    print(x)"
   ]
  },
  {
   "cell_type": "code",
   "execution_count": 25,
   "metadata": {},
   "outputs": [
    {
     "name": "stdout",
     "output_type": "stream",
     "text": [
      "7 x 0 = 0 \n",
      "7 x 1 = 7 \n",
      "7 x 2 = 14 \n",
      "7 x 3 = 21 \n",
      "7 x 4 = 28 \n",
      "7 x 5 = 35 \n",
      "7 x 6 = 42 \n",
      "7 x 7 = 49 \n",
      "7 x 8 = 56 \n",
      "7 x 9 = 63 \n",
      "7 x 10 = 70 \n"
     ]
    }
   ],
   "source": [
    "#TABUADA USANDO FOR\n",
    "\n",
    "nr = int(input('Digite um número para descobrir sua tabuada'))\n",
    "\n",
    "for multiplicador in range(11):\n",
    "    print(f'{nr} x {multiplicador} = {nr * multiplicador} ')"
   ]
  },
  {
   "cell_type": "code",
   "execution_count": 27,
   "metadata": {},
   "outputs": [
    {
     "name": "stdout",
     "output_type": "stream",
     "text": [
      "S\n",
      "E\n",
      "S\n",
      "I\n",
      " \n",
      "S\n",
      "E\n",
      "N\n",
      "A\n",
      "I\n"
     ]
    }
   ],
   "source": [
    "#FOR COM STRING\n",
    "\n",
    "for letra in 'SESI SENAI':\n",
    "    print(letra)"
   ]
  },
  {
   "cell_type": "code",
   "execution_count": 29,
   "metadata": {},
   "outputs": [
    {
     "name": "stdout",
     "output_type": "stream",
     "text": [
      "0\n",
      "1\n",
      "2\n",
      "3\n",
      "4\n",
      "5\n",
      "6\n",
      "7\n",
      "8\n",
      "9\n",
      "10\n"
     ]
    }
   ],
   "source": [
    "#QUEBRAR FOR COM BREAK\n",
    "\n",
    "for x in range(100):\n",
    "    if x == 11:\n",
    "        break\n",
    "    print(x)\n"
   ]
  },
  {
   "cell_type": "markdown",
   "metadata": {},
   "source": [
    "28/03/2024 - Variáveis compostas (Vetores aka Array aka Listas)"
   ]
  },
  {
   "cell_type": "code",
   "execution_count": 12,
   "metadata": {},
   "outputs": [
    {
     "name": "stdout",
     "output_type": "stream",
     "text": [
      "['maçã', 'banana', 'abacaxi', 'uva']\n",
      "maçã\n",
      "banana\n",
      "abacaxi\n",
      "uva\n"
     ]
    }
   ],
   "source": [
    "#ESTRUTURA DE ARRAYS/VETORES/LISTAS\n",
    "\n",
    "frutas = ['maçã', 'banana', 'abacaxi', 'uva']\n",
    "#isso esta errado:\n",
    "print (frutas) \n",
    "#o certo é usar colchetes [] com a posiçao (indice) desejada. lembrando que a primeira é 0!:\n",
    "print (frutas[0])\n",
    "print (frutas[1]) \n",
    "print (frutas[2])\n",
    "print (frutas[3])"
   ]
  },
  {
   "cell_type": "code",
   "execution_count": null,
   "metadata": {},
   "outputs": [],
   "source": [
    "#LISTA VAZIA\n",
    "\n",
    "lista_vazia = []"
   ]
  },
  {
   "cell_type": "code",
   "execution_count": null,
   "metadata": {},
   "outputs": [],
   "source": [
    "#LISTA DE NUMEROS\n",
    "\n",
    "numeros = [7, 9, 6, 9, 46]"
   ]
  },
  {
   "cell_type": "code",
   "execution_count": null,
   "metadata": {},
   "outputs": [],
   "source": [
    "#LISTA DE STRINGS\n",
    "\n",
    "nomes = ['Pedro', 'Tiago', 'João']"
   ]
  },
  {
   "cell_type": "code",
   "execution_count": null,
   "metadata": {},
   "outputs": [],
   "source": [
    "#LISTA MISTA\n",
    "\n",
    "lista_mista = [1, 'teste', True, 3.5]"
   ]
  },
  {
   "cell_type": "code",
   "execution_count": 22,
   "metadata": {},
   "outputs": [
    {
     "name": "stdout",
     "output_type": "stream",
     "text": [
      "abacaxi\n",
      "pitaya\n"
     ]
    }
   ],
   "source": [
    "#ALTERANDO ITENS DA LISTA/ARRAY ACESSANDO PELO INDICE\n",
    "\n",
    "frutas = ['abacate', 'banana', 'abacaxi']\n",
    "print(frutas[2])\n",
    "#alterando pelo indice:\n",
    "frutas[2] = 'pitaya'\n",
    "print(frutas[2])"
   ]
  },
  {
   "cell_type": "code",
   "execution_count": 20,
   "metadata": {},
   "outputs": [
    {
     "name": "stdout",
     "output_type": "stream",
     "text": [
      "['abacate', 'banana', 'abacaxi', 'extrato de pereba']\n"
     ]
    }
   ],
   "source": [
    "#.APPEND - INCLUINDO NOVO ITEM AO FINAL DA LISTA\n",
    "\n",
    "frutas = ['abacate', 'banana', 'abacaxi']\n",
    "frutas.append('extrato de pereba')\n",
    "\n",
    "print(frutas)"
   ]
  },
  {
   "cell_type": "code",
   "execution_count": 21,
   "metadata": {},
   "outputs": [
    {
     "name": "stdout",
     "output_type": "stream",
     "text": [
      "['abacate', 'banana', 'minhoca suculenta', 'abacaxi']\n"
     ]
    }
   ],
   "source": [
    "#.INSERT - INCLUINDO NOVO ITEM EM UMA POSIÇÃO ESPECÍFICA DA LISTA\n",
    "\n",
    "frutas = ['abacate', 'banana', 'abacaxi']\n",
    "frutas.insert(2, 'minhoca suculenta')\n",
    "\n",
    "print(frutas)"
   ]
  },
  {
   "cell_type": "code",
   "execution_count": 30,
   "metadata": {},
   "outputs": [
    {
     "name": "stdout",
     "output_type": "stream",
     "text": [
      "['abacate', 'banana', 'abacaxi', 'samba cançao', 'spock meu amor', 'pitaya']\n",
      "['abacate', 'banana', 'abacaxi', 'spock meu amor', 'pitaya']\n",
      "['abacate', 'banana', 'abacaxi', 'spock meu amor']\n",
      "['abacate', 'banana', 'spock meu amor']\n"
     ]
    }
   ],
   "source": [
    "#DEL ou .POP ou .REMOVE - EXCLUINDO UM ITEM DA LISTA\n",
    "\n",
    "frutas = ['abacate', 'banana', 'abacaxi', 'cocorico', 'samba cançao', 'spock meu amor', 'pitaya']\n",
    "\n",
    "#DEL\n",
    "del frutas[3]\n",
    "print(frutas)\n",
    "\n",
    "#.POP\n",
    "frutas.pop(3)\n",
    "print(frutas)\n",
    "\n",
    "#POP VAZIO (apaga o ultimo item)\n",
    "frutas.pop()\n",
    "print(frutas)\n",
    "\n",
    "#.REMOVE (não funciona com o indice)\n",
    "frutas.remove('abacaxi')\n",
    "print(frutas)\n"
   ]
  },
  {
   "cell_type": "code",
   "execution_count": 32,
   "metadata": {},
   "outputs": [
    {
     "name": "stdout",
     "output_type": "stream",
     "text": [
      "melancia\n",
      "['maça', 'banana', 'morango', 'abacaxi']\n",
      "['banana', 'morango', 'abacaxi', 'melancia', 'laranja', 'uva']\n",
      "uva\n",
      "7\n"
     ]
    }
   ],
   "source": [
    "#ACESSANDO OS ITENS DA LISTA\n",
    "\n",
    "frutas = ['maça', 'banana', 'morango', 'abacaxi', 'melancia', 'laranja', 'uva']\n",
    "\n",
    "#POSIÇAO ESPECIFICA\n",
    "print(frutas[4])\n",
    "\n",
    "#DE UMA POSIÇAO A OUTRA\n",
    "print(frutas[0:4])\n",
    "\n",
    "#DE UM ATE O ULTIMO\n",
    "print(frutas[1:])\n",
    "\n",
    "#DO FIM PARA O INICIO\n",
    "print(frutas[-1])\n",
    "\n",
    "#TOTAL DE ITENS (LENGTH)\n",
    "print(len(frutas))"
   ]
  },
  {
   "cell_type": "code",
   "execution_count": 1,
   "metadata": {},
   "outputs": [
    {
     "name": "stdout",
     "output_type": "stream",
     "text": [
      "['abacaxi', 'banana', 'laranja', 'maça', 'melancia', 'morango', 'uva']\n",
      "['uva', 'morango', 'melancia', 'maça', 'laranja', 'banana', 'abacaxi']\n"
     ]
    }
   ],
   "source": [
    "#.SORT e .REVERSE - ORDENANDO OS ITENS DA LISTA\n",
    "\n",
    "frutas = ['maça', 'banana', 'morango', 'abacaxi', 'melancia', 'laranja', 'uva']\n",
    "\n",
    "#ORDEM CRESCENTE\n",
    "frutas.sort()\n",
    "print(frutas)\n",
    "\n",
    "#ORDEM DECRESCENTE\n",
    "frutas.reverse()\n",
    "print(frutas)"
   ]
  },
  {
   "cell_type": "markdown",
   "metadata": {},
   "source": [
    "Aula 04/04/2024 - Iteração em listas"
   ]
  },
  {
   "cell_type": "code",
   "execution_count": 11,
   "metadata": {},
   "outputs": [
    {
     "name": "stdout",
     "output_type": "stream",
     "text": [
      "O carectere é um número.\n"
     ]
    }
   ],
   "source": [
    "#CRIANDO UMA LISTA DE VOGAIS\n",
    "\n",
    "vogais = ['a', 'e', 'i', 'o', 'u']\n",
    "consoantes = ['b', 'c', 'd', 'f', 'g', 'h', 'j', 'k', 'l', 'm', 'n', 'p', 'q', 'r', 's', 't', 'v', 'w', 'x', 'y', 'z',]\n",
    "letra = input('Digite uma letra')\n",
    "nr = ['1','2','3','4','5','6','7','8','9']\n",
    "\n",
    "if letra.lower() in vogais: #o lower transforma toda str digitada em minusculo. upper() faz o contrario\n",
    "    print(f'\"{letra}\" é uma vogal')\n",
    "elif letra.lower() in consoantes:\n",
    "    print(f'\"{letra}\" é uma consoante')\n",
    "elif letra in nr:\n",
    "    print('O carectere é um número.')\n",
    "else:\n",
    "    print('O caractere digitado não é uma letra.')\n"
   ]
  },
  {
   "cell_type": "code",
   "execution_count": 16,
   "metadata": {},
   "outputs": [
    {
     "name": "stdout",
     "output_type": "stream",
     "text": [
      "They are one person\n",
      "They are two alone\n",
      "They are three together\n",
      "They are four each other\n"
     ]
    }
   ],
   "source": [
    "#ITERANDO COM CADA ITEM DA LISTA\n",
    "\n",
    "listaNomes = ['They are one person', 'They are two alone', 'They are three together', 'They are four each other' ]\n",
    "for nome in listaNomes:\n",
    "    print(nome)"
   ]
  },
  {
   "cell_type": "code",
   "execution_count": 17,
   "metadata": {},
   "outputs": [
    {
     "name": "stdout",
     "output_type": "stream",
     "text": [
      "30\n",
      "30\n"
     ]
    }
   ],
   "source": [
    "#ITERANDO COM CADA ITEM DA LISTA (EXEMPLO COM NUMEROS)\n",
    "\n",
    "listaNr = [7,1,8,9,5]\n",
    "soma = 0\n",
    "for nr in listaNr:\n",
    "    soma += nr\n",
    "print(soma)\n",
    "\n",
    "#sum(listaNr) faria a mesma coisa, mas precisamos entender o codigo\n",
    "soma = sum(listaNr)\n",
    "print(soma)"
   ]
  },
  {
   "cell_type": "code",
   "execution_count": 23,
   "metadata": {},
   "outputs": [
    {
     "name": "stdout",
     "output_type": "stream",
     "text": [
      "A fruta maça está na posição 0\n",
      "A fruta banana está na posição 1\n",
      "A fruta abacaxi está na posição 2\n",
      "A fruta uva está na posição 3\n"
     ]
    }
   ],
   "source": [
    "#DESCOBRINDO A POSIÇAO DE CADA ITEM\n",
    "\n",
    "lista_frutas = ['maça', 'banana','abacaxi', 'uva']\n",
    "for posicao, fruta in enumerate(lista_frutas):\n",
    "    print(f'A fruta {fruta} está na posição {posicao}')"
   ]
  },
  {
   "cell_type": "code",
   "execution_count": 25,
   "metadata": {},
   "outputs": [
    {
     "name": "stdout",
     "output_type": "stream",
     "text": [
      "celular\n",
      " notebook\n",
      " TV\n",
      " tablet\n",
      " headset\n"
     ]
    }
   ],
   "source": [
    "#SEPARANDO ITENS DA LISTA\n",
    "\n",
    "produtos = 'celular/ notebook/ TV/ tablet/ headset'\n",
    "lista_produtos = produtos.split('/') #dentro do parenteses colocamos o nosso SEPARADOR\n",
    "\n",
    "#vamos testar\n",
    "for produto in lista_produtos:\n",
    "    print(produto)"
   ]
  },
  {
   "cell_type": "code",
   "execution_count": 26,
   "metadata": {},
   "outputs": [
    {
     "name": "stdout",
     "output_type": "stream",
     "text": [
      "S\n",
      "E\n",
      "N\n",
      "A\n",
      "I\n"
     ]
    }
   ],
   "source": [
    "#LENDO CARACTERE POR CARACTERE EM UMA STRING (QUE É UMA LISTA DE CARACTERES)\n",
    "\n",
    "palavra = 'SENAI'\n",
    "for letra in palavra:\n",
    "    print(letra)"
   ]
  },
  {
   "cell_type": "code",
   "execution_count": 2,
   "metadata": {},
   "outputs": [
    {
     "name": "stdout",
     "output_type": "stream",
     "text": [
      "1º lasanha\n",
      "2º macarrao\n",
      "3º bolo de cenoura\n"
     ]
    }
   ],
   "source": [
    "#CRIANDO UMA LISTA VAZIA\n",
    "\n",
    "lista_comidas = []\n",
    "\n",
    "while True: #laço de repeticao sem um nr de repetiçao definida\n",
    "    comida = input('Digite uma comida') #recebendo info do usuario e armazenando em uma variavel\n",
    "    lista_comidas.append(comida) #inserindo o valor da variavel no final da lista\n",
    "    resp = input('Deseja continuar? (S/N)')\n",
    "    if resp in 'Nn': #outro jeito seria \"if resp.upper() == 'N':\"\n",
    "        break\n",
    "for posicao, comida in enumerate(lista_comidas):\n",
    "    print(f'{posicao + 1}º {comida}')"
   ]
  },
  {
   "cell_type": "markdown",
   "metadata": {},
   "source": [
    "05/04 - Revisão"
   ]
  },
  {
   "cell_type": "code",
   "execution_count": null,
   "metadata": {},
   "outputs": [],
   "source": [
    "#CRIANDO UMA LISTA VAZIA \n",
    "listaComidas = []\n",
    "#Laço de repetição sem um nr de execução definida\n",
    "while True :\n",
    "    #Recebendo informação do usuário e amarzenando em uma variável\n",
    "    comida = input(\"Digite uma comida que você mais gosta\")\n",
    "    #Inserindo o valor da variável no final da lista\n",
    "    listaComidas.append(comida)\n",
    "    #Obtendo a resposta do usuário se desejar continuar\n",
    "    resp = input(\"Deseja continuar? S/N\")\n",
    "    #Verificando a condição da resposta dele, se for N sair do laço\n",
    "    if resp in \"Nn\"  :  # ou if resp.uuper() == \"S\" :\n",
    "        #parando o laço de repetição while\n",
    "        break\n",
    "    #Fora do while - após finalizar sua executação e encontrar o break\n",
    "    #Laço de repetição para exibir os itens e suas posições \n",
    "for pos, comida in enumerate(listaComidas) :\n",
    "        #Exibindo as variáveis de cada item da lista\n",
    "    print(f\"{pos+1}º {comida}\")    \n",
    "# o \"pos + 1\" serve para que a impressão/exibição da lista começe a partir do 1 e não do zero (para ficar mais coerente para o usuário), ainda assim isso serve apenas \n",
    "#para a exebição, já que o valor continua registrada como 0 no sistema  "
   ]
  },
  {
   "cell_type": "markdown",
   "metadata": {},
   "source": [
    ">11/04 - Funções"
   ]
  },
  {
   "cell_type": "code",
   "execution_count": 2,
   "metadata": {},
   "outputs": [
    {
     "name": "stdout",
     "output_type": "stream",
     "text": [
      "--------------------\n",
      "    SESI / SENAI\n",
      "--------------------\n"
     ]
    }
   ],
   "source": [
    "#PRINT\n",
    "\n",
    "print('-' * 20)\n",
    "print('    SESI / SENAI')\n",
    "print('-' * 20)"
   ]
  },
  {
   "cell_type": "code",
   "execution_count": 9,
   "metadata": {},
   "outputs": [
    {
     "name": "stdout",
     "output_type": "stream",
     "text": [
      "--------------------\n",
      "    SESI / SENAI\n",
      "--------------------\n"
     ]
    }
   ],
   "source": [
    "#DEF\n",
    "\n",
    "def linha():\n",
    "    print('-' * 20)  \n",
    "linha()\n",
    "print('    SESI / SENAI')\n",
    "linha()\n",
    "\n",
    "#vamos melhorar... ↓"
   ]
  },
  {
   "cell_type": "code",
   "execution_count": 8,
   "metadata": {},
   "outputs": [
    {
     "name": "stdout",
     "output_type": "stream",
     "text": [
      "--------------------\n",
      "    SESI / SENAI\n",
      "--------------------\n"
     ]
    }
   ],
   "source": [
    "def cabecalho():\n",
    "    print('-' * 20)\n",
    "    print('    SESI / SENAI')\n",
    "    print('-' * 20)\n",
    "cabecalho()\n",
    "\n",
    "#esta bom, mas podemos melhorar ainda mais!! ↓"
   ]
  },
  {
   "cell_type": "code",
   "execution_count": 10,
   "metadata": {},
   "outputs": [
    {
     "name": "stdout",
     "output_type": "stream",
     "text": [
      "--------------------\n",
      "    SESI / SENAI\n",
      "--------------------\n"
     ]
    }
   ],
   "source": [
    "#UTILIZANDO UMA FUNCAO DENTRO DE OUTRA\n",
    "\n",
    "def linha():\n",
    "    print('-' * 20)  \n",
    "\n",
    "def cabecalho():\n",
    "    linha()\n",
    "    print('    SESI / SENAI')\n",
    "    linha()\n",
    "\n",
    "cabecalho()"
   ]
  },
  {
   "cell_type": "code",
   "execution_count": 19,
   "metadata": {},
   "outputs": [
    {
     "name": "stdout",
     "output_type": "stream",
     "text": [
      "o(≧∀≦)o\n",
      "⠀⠀⠀⢀⠴⠊⠁⠀⠀⠀⠀⠀⠀⠀⠀⠀⠀⠀⠀⠉⠲⣄⠀⠀\n",
      "⠀⠀⡰⠃⠀⠀⠀⠀⠀⠀⠀⠀⠀⠀⠀⠀⠀⠀⠀⠀⠀⠈⢧⠀⠀\n",
      "⠀⡸⠁⠀⠀⠀⠀⠀⠀⠀⠀⠀⠀⠀⠀⠀⠀⠀⠀⠀⠀⠀⠀ ⢇⠀\n",
      "⠀⡇⠀⠀⠀⢀⡶⠛⣿⣷⡄⠀⠀⠀⣰⣿⠛⢿⣷⡄⠀⠀⠀⢸⠀\n",
      "⠀⡇⠀⠀⠀⢸⣷⣶⣿⣿⡇⠀⠀⠀⢻⣿⣶⣿⣿⣿⠀⠀⠀⢸⠀\n",
      "⠀⡇⠀⠀⠀⠈⠛⠻⠿⠟⠁⠀⠀⠀⠈⠛⠻⠿⠛⠁⠀⠀⠀⢸⠀\n",
      "⠀⠹⣄⠀⠀⠀⠀⠀⠀⠀⠀⢀⣀⣀⠀⠀⠀⠀⠀⠀⠀⠀⣠⠏⠀\n",
      "⠀⠀⠈⠢⣄⠀⠀⠀⠀⠀⠀⠀⠀⠀⠀⠀⠀⠀⠀⣀⣤⣚⡁⠀⠀\n",
      "⠀⠀⠀⠀⠈⠙⠒⢢⡤⠤⠤⠤⠤⠤⠖⠒⠒⠋⠉⠉⠀⠉⠉⢦\n",
      "⠀⠀⠀⠀⠀⠀⠀⢸⠀⠀⠀⠀⠀⠀⠀⠀⠀⠀⠀⠀⠀⠀⠀⠀   ⢸\n",
      "⠀⠀⠀⠀⠀⠀⠀⢸⡀⠀⠀⠀⠀⣤⠀⠀⠀⢀⣀⣀⣀⠀⠀⠀  ⢸\n",
      "⠀⠀⠀⠀⠀⠀⠀⠈⡇⠀⠀⠀⢠⣿⠀⠀⠀⢸⠀⠀⣿⠀⠀⠀  ⣸\n",
      "⠀⠀⠀⠀⠀⠀⠀⠀⢱⠀⠀⠀⢸⠘⡆⠀⠀⢸⣀⡰⠋⣆⠀ ⣠⠇\n",
      "⠀⠀⠀⠀⠀⠀⠀⠀⠀⠳⠤⠤⠼⠀⠘⠤⠴⠃⠀⠀⠀⠈⠉⠁⠀\n"
     ]
    }
   ],
   "source": [
    "#YIPPEE!!!!!!!!!!!\n",
    "\n",
    "def yippee():\n",
    "    print('⠀⠀⠀⢀⠴⠊⠁⠀⠀⠀⠀⠀⠀⠀⠀⠀⠀⠀⠀⠉⠲⣄⠀⠀')\n",
    "    print('⠀⠀⡰⠃⠀⠀⠀⠀⠀⠀⠀⠀⠀⠀⠀⠀⠀⠀⠀⠀⠀⠈⢧⠀⠀')\n",
    "    print('⠀⡸⠁⠀⠀⠀⠀⠀⠀⠀⠀⠀⠀⠀⠀⠀⠀⠀⠀⠀⠀⠀⠀ ⢇⠀')\n",
    "    print('⠀⡇⠀⠀⠀⢀⡶⠛⣿⣷⡄⠀⠀⠀⣰⣿⠛⢿⣷⡄⠀⠀⠀⢸⠀')\n",
    "    print('⠀⡇⠀⠀⠀⢸⣷⣶⣿⣿⡇⠀⠀⠀⢻⣿⣶⣿⣿⣿⠀⠀⠀⢸⠀')\n",
    "    print('⠀⡇⠀⠀⠀⠈⠛⠻⠿⠟⠁⠀⠀⠀⠈⠛⠻⠿⠛⠁⠀⠀⠀⢸⠀')\n",
    "    print('⠀⠹⣄⠀⠀⠀⠀⠀⠀⠀⠀⢀⣀⣀⠀⠀⠀⠀⠀⠀⠀⠀⣠⠏⠀')\n",
    "    print('⠀⠀⠈⠢⣄⠀⠀⠀⠀⠀⠀⠀⠀⠀⠀⠀⠀⠀⠀⣀⣤⣚⡁⠀⠀')\n",
    "    print('⠀⠀⠀⠀⠈⠙⠒⢢⡤⠤⠤⠤⠤⠤⠖⠒⠒⠋⠉⠉⠀⠉⠉⢦')\n",
    "    print('⠀⠀⠀⠀⠀⠀⠀⢸⠀⠀⠀⠀⠀⠀⠀⠀⠀⠀⠀⠀⠀⠀⠀⠀   ⢸')\n",
    "    print('⠀⠀⠀⠀⠀⠀⠀⢸⡀⠀⠀⠀⠀⣤⠀⠀⠀⢀⣀⣀⣀⠀⠀⠀  ⢸')\n",
    "    print('⠀⠀⠀⠀⠀⠀⠀⠈⡇⠀⠀⠀⢠⣿⠀⠀⠀⢸⠀⠀⣿⠀⠀⠀  ⣸')\n",
    "    print('⠀⠀⠀⠀⠀⠀⠀⠀⢱⠀⠀⠀⢸⠘⡆⠀⠀⢸⣀⡰⠋⣆⠀ ⣠⠇')\n",
    "    print('⠀⠀⠀⠀⠀⠀⠀⠀⠀⠳⠤⠤⠼⠀⠘⠤⠴⠃⠀⠀⠀⠈⠉⠁⠀')\n",
    "\n",
    "yippee()\n"
   ]
  },
  {
   "cell_type": "code",
   "execution_count": 12,
   "metadata": {},
   "outputs": [
    {
     "name": "stdout",
     "output_type": "stream",
     "text": [
      "Anta Gorda, tenha um bom dia! o(≧∀≦)o\n",
      "Natalie, tenha um bom dia! o(≧∀≦)o\n",
      "Rata, tenha um bom dia! o(≧∀≦)o\n"
     ]
    }
   ],
   "source": [
    "#EXERCICIO SAUDACAO\n",
    "\n",
    "def saudacao():\n",
    "    nome = input('Digite seu nome')\n",
    "    print(f'{nome}, tenha um bom dia! o(≧∀≦)o')\n",
    "\n",
    "saudacao()\n",
    "saudacao()\n",
    "saudacao()"
   ]
  },
  {
   "cell_type": "code",
   "execution_count": 20,
   "metadata": {},
   "outputs": [
    {
     "name": "stdout",
     "output_type": "stream",
     "text": [
      "Klaus, tenha um bom dia! o(≧∀≦)o\n",
      "Bleble, tenha um bom dia! o(≧∀≦)o\n",
      "Corococo, tenha um bom dia! o(≧∀≦)o\n"
     ]
    }
   ],
   "source": [
    "#tambem podemos chamar 3 vezes assim:\n",
    "\n",
    "for n in range(3):\n",
    "    saudacao()"
   ]
  },
  {
   "cell_type": "code",
   "execution_count": 21,
   "metadata": {},
   "outputs": [
    {
     "name": "stdout",
     "output_type": "stream",
     "text": [
      "--------------------\n",
      "SESI\n",
      "--------------------\n",
      "--------------------\n",
      "025\n",
      "--------------------\n"
     ]
    }
   ],
   "source": [
    "#FUNÇAO COM PARAMETRO\n",
    "\n",
    "def cabecalho(texto):\n",
    "    linha()\n",
    "    print(texto)\n",
    "    linha()\n",
    "cabecalho('SESI')\n",
    "cabecalho('025')"
   ]
  },
  {
   "cell_type": "code",
   "execution_count": 34,
   "metadata": {},
   "outputs": [
    {
     "name": "stdout",
     "output_type": "stream",
     "text": [
      "892804293 + 989234353745577 = 989235246549870\n",
      "777.32 + 623.99 = 1401.31\n"
     ]
    }
   ],
   "source": [
    "#FUNCAO COM MAIS DE UM PARAMETRO\n",
    "\n",
    "def soma(n1, n2):\n",
    "    res = n1 + n2\n",
    "    print(f'{n1} + {n2} = {res}')\n",
    "\n",
    "soma(892804293, 989234353745577)\n",
    "soma(777.32, 623.99)\n"
   ]
  },
  {
   "cell_type": "code",
   "execution_count": 40,
   "metadata": {},
   "outputs": [
    {
     "name": "stdout",
     "output_type": "stream",
     "text": [
      "29493 é um número ímpar\n",
      "77434 é um número par\n"
     ]
    }
   ],
   "source": [
    "#EXERCICIO - PAR OU IMPAR\n",
    "\n",
    "def parImpar(n):\n",
    "    if n % 2 == 0:\n",
    "        print(f'{n} é um número par')\n",
    "    else:\n",
    "        print(f'{n} é um número ímpar')\n",
    "\n",
    "parImpar(29493)\n",
    "parImpar(77434)"
   ]
  },
  {
   "cell_type": "code",
   "execution_count": 2,
   "metadata": {},
   "outputs": [
    {
     "name": "stdout",
     "output_type": "stream",
     "text": [
      "8 é um número par\n",
      "4 é um número par\n"
     ]
    }
   ],
   "source": [
    "#EXERCICIO - PAR OU IMPAR (OUTRO JEITO, USANDO INPUT E RANGE)\n",
    "#creditos para a querida juliana\n",
    "\n",
    "def parImpar(n):\n",
    "    if n % 2 == 0:\n",
    "        print(f'{n} é um número par')\n",
    "    else:\n",
    "        print(f'{n} é um número ímpar')\n",
    "\n",
    "for i in range(2): #vai perguntar duas vezes\n",
    "    n = int(input('Digite um número'))\n",
    "    parImpar(n)\n"
   ]
  },
  {
   "cell_type": "code",
   "execution_count": 3,
   "metadata": {},
   "outputs": [
    {
     "ename": "",
     "evalue": "",
     "output_type": "error",
     "traceback": [
      "\u001b[1;31mThe Kernel crashed while executing code in the current cell or a previous cell. \n",
      "\u001b[1;31mPlease review the code in the cell(s) to identify a possible cause of the failure. \n",
      "\u001b[1;31mClick <a href='https://aka.ms/vscodeJupyterKernelCrash'>here</a> for more info. \n",
      "\u001b[1;31mView Jupyter <a href='command:jupyter.viewOutput'>log</a> for further details."
     ]
    }
   ],
   "source": [
    "#COMO UM HUMANO PENSA - PAR OU IMPAR\n",
    "#EXERCICIO - PAR OU IMPAR\n",
    "\n",
    "def parImpar(n):\n",
    "    nrecebido = int(str(input('Digite um numero'))[-1])\n",
    "    if n % 2 == 0:\n",
    "        print(f'{nrecebido} é um número par')\n",
    "    else:\n",
    "        print(f'{nrecebido} é um número ímpar')\n",
    "\n",
    "parImpar(n)\n",
    "\n",
    "#deu errado"
   ]
  },
  {
   "cell_type": "code",
   "execution_count": 52,
   "metadata": {},
   "outputs": [
    {
     "name": "stdout",
     "output_type": "stream",
     "text": [
      "Média de 9.0\n"
     ]
    }
   ],
   "source": [
    "#RETURN\n",
    "\n",
    "def media(n1, n2):\n",
    "    res = (n1 + n2) / 2\n",
    "    return(res)\n",
    "\n",
    "res_media = media(10, 8) #OBS: o return ja printa automaticamente, mas por questoes didaticas vamos armazenar em uma variavel e usar o bom e velho print\n",
    "print(f'Média de {res_media}')"
   ]
  },
  {
   "cell_type": "code",
   "execution_count": 62,
   "metadata": {},
   "outputs": [
    {
     "name": "stdout",
     "output_type": "stream",
     "text": [
      "25/12/1987\n",
      "27/2/1989\n"
     ]
    }
   ],
   "source": [
    "def formatarData(d,m,a):\n",
    "    data = (f'{d}/{m}/{a}')\n",
    "    return(data)\n",
    "\n",
    "print(formatarData(25,12,1987))\n",
    "print(formatarData(27,2,1989))\n"
   ]
  },
  {
   "cell_type": "markdown",
   "metadata": {},
   "source": [
    ">12/04/2024 - Escopo de váriaveis (variável local X variável global)"
   ]
  },
  {
   "cell_type": "code",
   "execution_count": 1,
   "metadata": {},
   "outputs": [
    {
     "name": "stdout",
     "output_type": "stream",
     "text": [
      "SESI\n"
     ]
    }
   ],
   "source": [
    "#VARIAVEIS LOCAIS \n",
    "#sao declaradas dentro de uma funçao, existindo apenas dentro dela*\n",
    "\n",
    "def nomeEscola():\n",
    "    escola = 'SESI'\n",
    "    print(escola) #isto é uma variável LOCAL\n",
    "nomeEscola()\n",
    "\n",
    "#por isso, se eu tentasse printar ela aqui usando \"print(escola), o programa diria que escola nao existe*"
   ]
  },
  {
   "cell_type": "code",
   "execution_count": 2,
   "metadata": {},
   "outputs": [
    {
     "name": "stdout",
     "output_type": "stream",
     "text": [
      "valor ANTES da função: SENAI\n",
      "valor DENTRO da função: SESI\n",
      "valor DEPOIS da função: SENAI\n"
     ]
    }
   ],
   "source": [
    "#MOSTRANDO COMO AS VARIAVEIS SAO DIFERENTES\n",
    "\n",
    "def nomeEscola():\n",
    "    escola = 'SESI'\n",
    "    print(f'valor DENTRO da função: {escola}')\n",
    "\n",
    "escola = 'SENAI'\n",
    "print(f'valor ANTES da função: {escola}')\n",
    "\n",
    "nomeEscola()\n",
    "print(f'valor DEPOIS da função: {escola}')"
   ]
  },
  {
   "cell_type": "code",
   "execution_count": 6,
   "metadata": {},
   "outputs": [
    {
     "name": "stdout",
     "output_type": "stream",
     "text": [
      "valor ANTES da função: SENAI\n",
      "valor DENTRO da função: SESI\n",
      "valor DEPOIS da função: SESI\n"
     ]
    }
   ],
   "source": [
    "#USANDO VARIAVEL GLOBAL DENTRO DE UMA FUNÇAO E ATUALIZANDO\n",
    "\n",
    "def nomeEscola():\n",
    "    #caso eu queira ATUALIZAR o conteudo da variavel escola, preciso escrever que ela é global\n",
    "    global escola\n",
    "    escola = 'SESI' #atualizando o valor da variavel\n",
    "    print(f'valor DENTRO da função: {escola}')\n",
    "\n",
    "escola = 'SENAI'\n",
    "print(f'valor ANTES da função: {escola}')\n",
    "\n",
    "nomeEscola()\n",
    "print(f'valor DEPOIS da função: {escola}')"
   ]
  },
  {
   "cell_type": "code",
   "execution_count": 7,
   "metadata": {},
   "outputs": [
    {
     "name": "stdout",
     "output_type": "stream",
     "text": [
      "fora da funçao 10\n",
      "dentro da função 1\n",
      "fora da função 10\n"
     ]
    }
   ],
   "source": [
    "#DIFERENÇA ENTRE GLOBAL E LOCAL (OLHAR CODE ABAIXO)\n",
    "\n",
    "x = 10 #variavel global\n",
    "\n",
    "#podemos acessar x fora da funcao tambem\n",
    "print('fora da funçao', x)\n",
    "\n",
    "def minhaFuncao():\n",
    "    x = 0 #variavel local\n",
    "    x += 1\n",
    "    print('dentro da função', x)\n",
    "\n",
    "minhaFuncao()\n",
    "print('fora da função', x)"
   ]
  },
  {
   "cell_type": "code",
   "execution_count": 8,
   "metadata": {},
   "outputs": [
    {
     "name": "stdout",
     "output_type": "stream",
     "text": [
      "fora da funçao 10\n",
      "dentro da função 11\n",
      "fora da função 11\n"
     ]
    }
   ],
   "source": [
    "#DIFERENÇA ENTRE GLOBAL E LOCAL (OLHAR CODE ABAIXO)\n",
    "\n",
    "x = 10 #variavel global\n",
    "\n",
    "#podemos acessar x fora da funcao tambem\n",
    "print('fora da funçao', x)\n",
    "\n",
    "def minhaFuncao():\n",
    "    global x #dizendo que usaremos a variavel x global\n",
    "    x += 1\n",
    "    print('dentro da função', x)\n",
    "\n",
    "minhaFuncao()\n",
    "print('fora da função', x)"
   ]
  },
  {
   "cell_type": "markdown",
   "metadata": {},
   "source": [
    "DICAS!\n",
    "\n",
    "• Se uma função ou procedimento tiver uma variável local com o mesmo nome de\n",
    "uma variável global, a variável local oculta a global.\n",
    "\n",
    "• Para acessar ambas, uma delas deve ter seu identificador alterado.\n",
    "\n",
    "• Em geral, é uma boa prática evitar o uso excessivo de variáveis globais e,\n",
    "sempre que possível, optar por passar variáveis como argumentos para funções\n",
    "ou retornar valores delas."
   ]
  },
  {
   "cell_type": "code",
   "execution_count": 9,
   "metadata": {},
   "outputs": [
    {
     "name": "stdout",
     "output_type": "stream",
     "text": [
      "⠀⠀⠀⢀⠴⠊⠁⠀⠀⠀⠀⠀⠀⠀⠀⠀⠀⠀⠀⠉⠲⣄⠀⠀\n",
      "⠀⠀⡰⠃⠀⠀⠀⠀⠀⠀⠀⠀⠀⠀⠀⠀⠀⠀⠀⠀⠀⠈⢧⠀⠀\n",
      "⠀⡸⠁⠀⠀⠀⠀⠀⠀⠀⠀⠀⠀⠀⠀⠀⠀⠀⠀⠀⠀⠀⠀ ⢇⠀\n",
      "⠀⡇⠀⠀⠀⢀⡶⠛⣿⣷⡄⠀⠀⠀⣰⣿⠛⢿⣷⡄⠀⠀⠀⢸⠀\n",
      "⠀⡇⠀⠀⠀⢸⣷⣶⣿⣿⡇⠀⠀⠀⢻⣿⣶⣿⣿⣿⠀⠀⠀⢸⠀\n",
      "⠀⡇⠀⠀⠀⠈⠛⠻⠿⠟⠁⠀⠀⠀⠈⠛⠻⠿⠛⠁⠀⠀⠀⢸⠀\n",
      "⠀⠹⣄⠀⠀⠀⠀⠀⠀⠀⠀⢀⣀⣀⠀⠀⠀⠀⠀⠀⠀⠀⣠⠏⠀\n",
      "⠀⠀⠈⠢⣄⠀⠀⠀⠀⠀⠀⠀⠀⠀⠀⠀⠀⠀⠀⣀⣤⣚⡁⠀⠀\n",
      "⠀⠀⠀⠀⠈⠙⠒⢢⡤⠤⠤⠤⠤⠤⠖⠒⠒⠋⠉⠉⠀⠉⠉⢦\n",
      "⠀⠀⠀⠀⠀⠀⠀⢸⠀⠀⠀⠀⠀⠀⠀⠀⠀⠀⠀⠀⠀⠀⠀⠀   ⢸\n",
      "⠀⠀⠀⠀⠀⠀⠀⢸⡀⠀⠀⠀⠀⣤⠀⠀⠀⢀⣀⣀⣀⠀⠀⠀  ⢸\n",
      "⠀⠀⠀⠀⠀⠀⠀⠈⡇⠀⠀⠀⢠⣿⠀⠀⠀⢸⠀⠀⣿⠀⠀⠀  ⣸\n",
      "⠀⠀⠀⠀⠀⠀⠀⠀⢱⠀⠀⠀⢸⠘⡆⠀⠀⢸⣀⡰⠋⣆⠀ ⣠⠇\n",
      "⠀⠀⠀⠀⠀⠀⠀⠀⠀⠳⠤⠤⠼⠀⠘⠤⠴⠃⠀⠀⠀⠈⠉⠁⠀\n"
     ]
    }
   ],
   "source": [
    "#DOCSTRING\n",
    "def yippee():\n",
    "    '''\n",
    "    Essa função imprime uma criatura emoticon\n",
    "    '''\n",
    "    print('⠀⠀⠀⢀⠴⠊⠁⠀⠀⠀⠀⠀⠀⠀⠀⠀⠀⠀⠀⠉⠲⣄⠀⠀')\n",
    "    print('⠀⠀⡰⠃⠀⠀⠀⠀⠀⠀⠀⠀⠀⠀⠀⠀⠀⠀⠀⠀⠀⠈⢧⠀⠀')\n",
    "    print('⠀⡸⠁⠀⠀⠀⠀⠀⠀⠀⠀⠀⠀⠀⠀⠀⠀⠀⠀⠀⠀⠀⠀ ⢇⠀')\n",
    "    print('⠀⡇⠀⠀⠀⢀⡶⠛⣿⣷⡄⠀⠀⠀⣰⣿⠛⢿⣷⡄⠀⠀⠀⢸⠀')\n",
    "    print('⠀⡇⠀⠀⠀⢸⣷⣶⣿⣿⡇⠀⠀⠀⢻⣿⣶⣿⣿⣿⠀⠀⠀⢸⠀')\n",
    "    print('⠀⡇⠀⠀⠀⠈⠛⠻⠿⠟⠁⠀⠀⠀⠈⠛⠻⠿⠛⠁⠀⠀⠀⢸⠀')\n",
    "    print('⠀⠹⣄⠀⠀⠀⠀⠀⠀⠀⠀⢀⣀⣀⠀⠀⠀⠀⠀⠀⠀⠀⣠⠏⠀')\n",
    "    print('⠀⠀⠈⠢⣄⠀⠀⠀⠀⠀⠀⠀⠀⠀⠀⠀⠀⠀⠀⣀⣤⣚⡁⠀⠀')\n",
    "    print('⠀⠀⠀⠀⠈⠙⠒⢢⡤⠤⠤⠤⠤⠤⠖⠒⠒⠋⠉⠉⠀⠉⠉⢦')\n",
    "    print('⠀⠀⠀⠀⠀⠀⠀⢸⠀⠀⠀⠀⠀⠀⠀⠀⠀⠀⠀⠀⠀⠀⠀⠀   ⢸')\n",
    "    print('⠀⠀⠀⠀⠀⠀⠀⢸⡀⠀⠀⠀⠀⣤⠀⠀⠀⢀⣀⣀⣀⠀⠀⠀  ⢸')\n",
    "    print('⠀⠀⠀⠀⠀⠀⠀⠈⡇⠀⠀⠀⢠⣿⠀⠀⠀⢸⠀⠀⣿⠀⠀⠀  ⣸')\n",
    "    print('⠀⠀⠀⠀⠀⠀⠀⠀⢱⠀⠀⠀⢸⠘⡆⠀⠀⢸⣀⡰⠋⣆⠀ ⣠⠇')\n",
    "    print('⠀⠀⠀⠀⠀⠀⠀⠀⠀⠳⠤⠤⠼⠀⠘⠤⠴⠃⠀⠀⠀⠈⠉⠁⠀')\n",
    "\n",
    "yippee()"
   ]
  },
  {
   "cell_type": "code",
   "execution_count": null,
   "metadata": {},
   "outputs": [],
   "source": [
    "#ANNOTATIONS"
   ]
  }
 ],
 "metadata": {
  "kernelspec": {
   "display_name": "Python 3",
   "language": "python",
   "name": "python3"
  },
  "language_info": {
   "codemirror_mode": {
    "name": "ipython",
    "version": 3
   },
   "file_extension": ".py",
   "mimetype": "text/x-python",
   "name": "python",
   "nbconvert_exporter": "python",
   "pygments_lexer": "ipython3",
   "version": "3.12.2"
  }
 },
 "nbformat": 4,
 "nbformat_minor": 2
}
