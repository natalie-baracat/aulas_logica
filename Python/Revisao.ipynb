{
 "cells": [
  {
   "cell_type": "markdown",
   "metadata": {},
   "source": [
    "1. Faça um Programa que mostre a mensagem \"Seja Bem-Vindo ao SESI 😎\" na tela. "
   ]
  },
  {
   "cell_type": "code",
   "execution_count": 1,
   "metadata": {},
   "outputs": [
    {
     "name": "stdout",
     "output_type": "stream",
     "text": [
      "Seja bem vindo ao SESI 😎\n"
     ]
    }
   ],
   "source": [
    "print('Seja bem vindo ao SESI 😎')"
   ]
  },
  {
   "cell_type": "markdown",
   "metadata": {},
   "source": [
    "2. Faça um Programa que peça um número e então mostre a mensagem “O número\n",
    "informado foi [número]”."
   ]
  },
  {
   "cell_type": "code",
   "execution_count": 3,
   "metadata": {},
   "outputs": [
    {
     "name": "stdout",
     "output_type": "stream",
     "text": [
      "O número informado foi 7\n"
     ]
    }
   ],
   "source": [
    "nr = int(input('Digite um número inteiro'))\n",
    "print(f'O número informado foi {nr}')"
   ]
  },
  {
   "cell_type": "markdown",
   "metadata": {},
   "source": [
    "3. Faça um programa que receba 2 números inteiros e exiba a divisão entre eles"
   ]
  },
  {
   "cell_type": "code",
   "execution_count": 4,
   "metadata": {},
   "outputs": [
    {
     "name": "stdout",
     "output_type": "stream",
     "text": [
      "3445 / 656 = 5.251524390243903\n"
     ]
    }
   ],
   "source": [
    "n1 = int(input('digite um número'))\n",
    "n2 = int(input('digite outro número'))\n",
    "print(f'{n1} / {n2} = {n1 / n2}')"
   ]
  },
  {
   "cell_type": "markdown",
   "metadata": {},
   "source": [
    "4. Faça um Programa que pergunte quanto você ganha por hora e o número de horas\n",
    "trabalhadas no mês. Calcule e mostre o total do seu salário no referido mês. "
   ]
  },
  {
   "cell_type": "code",
   "execution_count": 6,
   "metadata": {},
   "outputs": [
    {
     "name": "stdout",
     "output_type": "stream",
     "text": [
      "o salário foi R$4500.00\n"
     ]
    }
   ],
   "source": [
    "ganha_por_h = float(input('digite o quanto você ganha por hora'))\n",
    "horas_trabalhadas = float(input('digite as horas trabalhadas no mês'))\n",
    "salario = (ganha_por_h * horas_trabalhadas)\n",
    "print(f'o salário foi R${salario:.2f}')\n"
   ]
  },
  {
   "cell_type": "markdown",
   "metadata": {},
   "source": [
    "5. Faça um Programa que verifique se uma letra digitada é \"F\" ou \"M\". Conforme a letra\n",
    "escrever: F - Feminino, M - Masculino, Sexo Inválido. \n"
   ]
  },
  {
   "cell_type": "code",
   "execution_count": 7,
   "metadata": {},
   "outputs": [
    {
     "name": "stdout",
     "output_type": "stream",
     "text": [
      "sexo feminino\n"
     ]
    }
   ],
   "source": [
    "sexo = input('digite o sexo (F/M)')\n",
    "if sexo.upper() == 'F':\n",
    "    print('sexo feminino')\n",
    "elif sexo.upper() == 'M':\n",
    "    print('sexo masculino')\n",
    "else:\n",
    "    print('sexo inválido. tente novamente')"
   ]
  },
  {
   "cell_type": "markdown",
   "metadata": {},
   "source": [
    "6. Tendo como dado de entrada a altura (h) de uma pessoa e o sexo, construa um algoritmo\n",
    "que calcule seu peso ideal, utilizando as seguintes fórmulas:\n",
    "Para homens: (72.7 * altura) – 58 Para mulheres: (62.1 * altura) - 44.7 "
   ]
  },
  {
   "cell_type": "code",
   "execution_count": 10,
   "metadata": {},
   "outputs": [
    {
     "name": "stdout",
     "output_type": "stream",
     "text": [
      "seu peso ideal é 57.14\n"
     ]
    }
   ],
   "source": [
    "sexo = input('digite o sexo (F/M)')\n",
    "h = float(input('digite a altura'))\n",
    "peso_fem = (62.1 * h) - 44.7\n",
    "peso_masc = (72.1 * h) - 58\n",
    "\n",
    "if sexo.upper() == 'F':\n",
    "    print(f'seu peso ideal é {peso_fem:.2f}')\n",
    "elif sexo.upper() == 'M':\n",
    "    print(f'seu peso ideal é {peso_masc:.2f}')\n",
    "else:\n",
    "    print('sexo inválido. tente novamente')"
   ]
  },
  {
   "cell_type": "markdown",
   "metadata": {},
   "source": [
    "7. Faça um Programa que pergunte quanto você ganha por hora e o número de horas\n",
    "trabalhadas no mês.\n",
    "Calcule e mostre o total do seu salário no referido mês, sabendo-se que são descontados\n",
    "11% para o Imposto de Renda, 8% para o INSS e 5% para o sindicato, faça um programa\n",
    "que nos dê: salário bruto. quanto pagou ao INSS. quanto pagou ao sindicato. o salário\n",
    "líquido. calcule os descontos e o salário líquido, conforme a tabela abaixo:\n",
    "+ Salário Bruto : R$\n",
    "- IR (11%) : R$\n",
    "- INSS (8%) : R$\n",
    "- Sindicato ( 5%) : R$\n",
    "= Salário Liquido : R$\n",
    "Obs.: Salário Bruto - Descontos = Salário Líquido. "
   ]
  },
  {
   "cell_type": "code",
   "execution_count": 11,
   "metadata": {},
   "outputs": [
    {
     "name": "stdout",
     "output_type": "stream",
     "text": [
      "+ Salário bruto: R$3000.00\n",
      "- Imposto de renda: R$330.00\n",
      "- INSS: R$240.00\n",
      "- Sindicato: R$240.00\n",
      "= Salário líquido: R$2280.0\n"
     ]
    }
   ],
   "source": [
    "ganha_por_h = float(input('digite o quanto você ganha por hora'))\n",
    "horas_trabalhadas = float(input('digite as horas trabalhadas no mês'))\n",
    "salario_bruto = (ganha_por_h * horas_trabalhadas)\n",
    "ir = salario_bruto * (11/100)\n",
    "inss = salario_bruto * (8/100)\n",
    "sindicato = salario_bruto * (5/100)\n",
    "salario_liquido = salario_bruto - ir - inss - sindicato\n",
    "\n",
    "print(f'+ Salário bruto: R${salario_bruto:.2f}')\n",
    "print(f'- Imposto de renda: R${ir:.2f}')\n",
    "print(f'- INSS: R${inss:.2f}')\n",
    "print(f'- Sindicato: R${inss:.2f}')\n",
    "print(f'= Salário líquido: R${salario_liquido}')"
   ]
  },
  {
   "cell_type": "markdown",
   "metadata": {},
   "source": [
    "8. Faça uma função que peça um valor e mostre na tela se o valor é positivo ou negativo. \n"
   ]
  },
  {
   "cell_type": "code",
   "execution_count": 12,
   "metadata": {},
   "outputs": [
    {
     "name": "stdout",
     "output_type": "stream",
     "text": [
      "o número 4 é positivo\n"
     ]
    }
   ],
   "source": [
    "def neg_ou_pos():\n",
    "    nr = int(input('digite um número inteiro'))\n",
    "    if nr > 0:\n",
    "        print(f'o número {nr} é positivo')\n",
    "    else:\n",
    "        print(f'o número {nr} é negativo')\n",
    "neg_ou_pos()"
   ]
  },
  {
   "cell_type": "markdown",
   "metadata": {},
   "source": [
    "9. Faça uma função que imprima na tela apenas os números ímpares entre 1 e 50. "
   ]
  },
  {
   "cell_type": "code",
   "execution_count": 13,
   "metadata": {},
   "outputs": [
    {
     "name": "stdout",
     "output_type": "stream",
     "text": [
      "1\n",
      "3\n",
      "5\n",
      "7\n",
      "9\n",
      "11\n",
      "13\n",
      "15\n",
      "17\n",
      "19\n",
      "21\n",
      "23\n",
      "25\n",
      "27\n",
      "29\n",
      "31\n",
      "33\n",
      "35\n",
      "37\n",
      "39\n",
      "41\n",
      "43\n",
      "45\n",
      "47\n",
      "49\n"
     ]
    }
   ],
   "source": [
    "for nr in range(51):\n",
    "    if nr % 2 != 0:\n",
    "        print(nr)"
   ]
  },
  {
   "cell_type": "markdown",
   "metadata": {},
   "source": [
    "10. Faça uma função que receba dois números inteiros e gere os números inteiros que estão\n",
    "no intervalo compreendido por eles."
   ]
  },
  {
   "cell_type": "code",
   "execution_count": 14,
   "metadata": {},
   "outputs": [
    {
     "name": "stdout",
     "output_type": "stream",
     "text": [
      "7\n",
      "8\n",
      "9\n",
      "10\n",
      "11\n",
      "12\n",
      "13\n",
      "14\n",
      "15\n",
      "16\n",
      "17\n",
      "18\n",
      "19\n",
      "20\n",
      "21\n",
      "22\n",
      "23\n",
      "24\n"
     ]
    }
   ],
   "source": [
    "n1 = int(input('digite um número inteiro'))\n",
    "n2 = int(input('digite outro número inteiro'))\n",
    "for n in range(n1, n2):\n",
    "    print(n)"
   ]
  },
  {
   "cell_type": "markdown",
   "metadata": {},
   "source": [
    "11. Faça uma função que peça um número positivo e em seguida mostre este número invertido.\n",
    "Exemplo: 12376489 => 98467321 "
   ]
  },
  {
   "cell_type": "code",
   "execution_count": 31,
   "metadata": {},
   "outputs": [
    {
     "name": "stdout",
     "output_type": "stream",
     "text": [
      "7654321\n"
     ]
    }
   ],
   "source": [
    "def inverter():\n",
    "    inv = ''\n",
    "    for digito in input('digite um numero positivo com mais de 2 digitos'):\n",
    "        inv = digito + inv\n",
    "    print(inv)\n",
    "inverter()"
   ]
  },
  {
   "cell_type": "markdown",
   "metadata": {},
   "source": [
    "12. Faça um Programa que leia um vetor A com 5 números inteiros, calcule e mostre a soma\n",
    "dos quadrados dos elementos do vetor. "
   ]
  },
  {
   "cell_type": "code",
   "execution_count": 15,
   "metadata": {},
   "outputs": [
    {
     "name": "stdout",
     "output_type": "stream",
     "text": [
      "168\n"
     ]
    }
   ],
   "source": [
    "lista_nr = [2, 5, 7, 9, 3]\n",
    "soma = 0\n",
    "for nr in lista_nr:\n",
    "    soma += (nr**2)\n",
    "print(soma)"
   ]
  },
  {
   "cell_type": "markdown",
   "metadata": {},
   "source": [
    "13. Faça um Programa que leia 8 números inteiros e armazene-os num vetor. Armazene os\n",
    "números pares no vetor PAR e os números IMPARES no vetor impar. Imprima os três\n",
    "vetores. \n"
   ]
  },
  {
   "cell_type": "code",
   "execution_count": 32,
   "metadata": {},
   "outputs": [
    {
     "name": "stdout",
     "output_type": "stream",
     "text": [
      "[34, 5, 4, 2, 4, 6, 7, 6] [5, 7] [34, 4, 2, 4, 6, 6]\n"
     ]
    }
   ],
   "source": [
    "nrs = []\n",
    "impares = []\n",
    "pares = []\n",
    "for i in range(8):\n",
    "    nr = int(input('digite um numero inteiro'))\n",
    "    nrs.append(nr)\n",
    "    if nr % 2 == 0:\n",
    "        pares.append(nr)\n",
    "    else:\n",
    "        impares.append(nr)\n",
    "print(nrs, impares, pares)   \n"
   ]
  },
  {
   "cell_type": "markdown",
   "metadata": {},
   "source": [
    "14. Numa eleição existem três candidatos. Faça um programa que peça o número total de\n",
    "eleitores. Peça para cada eleitor votar e ao final mostrar o número de votos de cada\n",
    "candidato. \n"
   ]
  },
  {
   "cell_type": "code",
   "execution_count": 41,
   "metadata": {},
   "outputs": [
    {
     "name": "stdout",
     "output_type": "stream",
     "text": [
      "Candidato 1: 2 votos | Candidato 2: 1 votos | Candidato 3: 4 votos\n"
     ]
    }
   ],
   "source": [
    "cand1 = 0\n",
    "cand2 = 0\n",
    "cand3 = 0\n",
    "qtde_eleitores = int(input('qual foi o total de eleitores?'))\n",
    "\n",
    "for i in range(qtde_eleitores):\n",
    "    voto = input('insira seu voto [1] [2] [3]')\n",
    "    if voto == '1':\n",
    "        cand1 += 1\n",
    "    elif voto == '2':\n",
    "        cand2 += 1\n",
    "    elif voto == '3':\n",
    "        cand3 += 1\n",
    "print(f'Candidato 1: {cand1} votos | Candidato 2: {cand2} votos | Candidato 3: {cand3} votos')"
   ]
  },
  {
   "cell_type": "markdown",
   "metadata": {},
   "source": [
    "15. Faça um Programa que em uma função receba 4 notas bimestrais e mostre a média. \n"
   ]
  },
  {
   "cell_type": "code",
   "execution_count": 37,
   "metadata": {},
   "outputs": [
    {
     "name": "stdout",
     "output_type": "stream",
     "text": [
      "sua média foi 9.20\n"
     ]
    }
   ],
   "source": [
    "def media(n1, n2, n3, n4):\n",
    "    ''' função para ver a média de 4 notas bimestrais'''\n",
    "    print(f'sua média foi {(n1 + n2 + n3 + n4) / 4:.2f}')\n",
    "\n",
    "n1 = float(input('digite uma nota'))\n",
    "n2 = float(input('digite uma nota'))\n",
    "n3 = float(input('digite uma nota'))\n",
    "n4 = float(input('digite uma nota'))\n",
    "\n",
    "media(n1, n2, n3, n4)"
   ]
  },
  {
   "cell_type": "markdown",
   "metadata": {},
   "source": [
    "16. Faça um Programa que em uma função receba uma medida em metros e converta retorne\n",
    "o valor convertido para centímetros."
   ]
  },
  {
   "cell_type": "code",
   "execution_count": 43,
   "metadata": {},
   "outputs": [
    {
     "name": "stdout",
     "output_type": "stream",
     "text": [
      "7.5 metros equivalem a 750.0 centímetros\n"
     ]
    }
   ],
   "source": [
    "def conversao(metros):\n",
    "    centimetros = metros * 100\n",
    "    print(f'{metros} metros equivalem a {centimetros} centímetros')\n",
    "\n",
    "metros = float(input('digite uma media em metros'))\n",
    "conversao(metros)"
   ]
  },
  {
   "cell_type": "markdown",
   "metadata": {},
   "source": [
    "17. Faça um programa que receba a temperatura média de cada mês do ano e armazene-as\n",
    "em uma lista. Após isto, calcule a média anual das temperaturas e mostre todas as\n",
    "temperaturas acima da média anual, e em que mês elas ocorreram (mostrar o mês por\n",
    "extenso: 1 – Janeiro, 2 – Fevereiro, . . . ). "
   ]
  },
  {
   "cell_type": "code",
   "execution_count": null,
   "metadata": {},
   "outputs": [],
   "source": [
    "temp_media_meses = [30, 31, 19, 25, ]"
   ]
  },
  {
   "cell_type": "markdown",
   "metadata": {},
   "source": []
  }
 ],
 "metadata": {
  "kernelspec": {
   "display_name": "Python 3",
   "language": "python",
   "name": "python3"
  },
  "language_info": {
   "codemirror_mode": {
    "name": "ipython",
    "version": 3
   },
   "file_extension": ".py",
   "mimetype": "text/x-python",
   "name": "python",
   "nbconvert_exporter": "python",
   "pygments_lexer": "ipython3",
   "version": "3.12.3"
  }
 },
 "nbformat": 4,
 "nbformat_minor": 2
}
