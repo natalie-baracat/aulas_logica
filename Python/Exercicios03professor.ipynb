{
 "cells": [
  {
   "cell_type": "markdown",
   "metadata": {},
   "source": [
    "1. Pede ao usuário para digitar um número de 1 a 7 e imprime o dia da semana correspondente"
   ]
  },
  {
   "cell_type": "code",
   "execution_count": 11,
   "metadata": {},
   "outputs": [
    {
     "name": "stdout",
     "output_type": "stream",
     "text": [
      "Digitou uma informação inválida\n"
     ]
    }
   ],
   "source": [
    "dia = input('Digite o dia da semana:')\n",
    "match dia :\n",
    "    case '1':\n",
    "        print ('Domingo')\n",
    "    case '2':\n",
    "        print ('Segunda')\n",
    "    case '3':\n",
    "        print ('Terça')\n",
    "    case '4':\n",
    "        print ('Quarta')\n",
    "    case '5':\n",
    "        print ('Quinta')\n",
    "    case '6':\n",
    "        print ('Sexta')\n",
    "    case '7':\n",
    "        print ('Sábado')\n",
    "    case _ :\n",
    "        print ('Digitou uma informação inválida')"
   ]
  },
  {
   "cell_type": "markdown",
   "metadata": {},
   "source": [
    "2. Pede ao usuário o ano atual e o ano de nascimento e verifique em qual faixa etária ele pertence considerando (abaixo de 10 é criança, de 11 a 17 adolescente, de 18 a 59 adulto, acima de 60 idoso)\n"
   ]
  },
  {
   "cell_type": "code",
   "execution_count": 21,
   "metadata": {},
   "outputs": [
    {
     "name": "stdout",
     "output_type": "stream",
     "text": [
      "No ano de 2100 você teria 111 você morreu\n"
     ]
    }
   ],
   "source": [
    "ano_atual = int(input('Digite o ano atual'))\n",
    "ano_nascimento = int(input('Digite o ano nascimento'))\n",
    "idade = ano_atual - ano_nascimento\n",
    "if idade <= 10 :\n",
    "    print(f'No ano de {ano_atual} você terá {idade}, e será uma criança')\n",
    "elif idade >= 11 and idade <= 17 :\n",
    "    print(f'No ano de {ano_atual} você terá {idade}, e será uma adolescente')\n",
    "elif idade >= 18 and idade <= 59 :\n",
    "    print(f'No ano de {ano_atual} você terá {idade}, e será uma adulto')\n",
    "elif idade >= 60 and idade <= 110 :\n",
    "    print(f'No ano de {ano_atual} você terá {idade}, e será uma idoso')\n",
    "else :\n",
    "    print(f'No ano de {ano_atual} você teria {idade} você morreu')"
   ]
  },
  {
   "cell_type": "markdown",
   "metadata": {},
   "source": [
    "3. Pede ao usuário para digitar o nome de um mês e imprime o número de dias naquele mês"
   ]
  },
  {
   "cell_type": "code",
   "execution_count": 29,
   "metadata": {},
   "outputs": [
    {
     "name": "stdout",
     "output_type": "stream",
     "text": [
      "maio Maio\n"
     ]
    }
   ],
   "source": [
    "mes = input('Digite o nome do mês')\n",
    "match mes.upper() :\n",
    "    case 'JANEIRO':\n",
    "        print(f'{mes} tem 31 dias')\n",
    "    case 'FEVEREIRO':\n",
    "        print(f'{mes} tem 28 dias ou 29 dias')\n",
    "    case 'MARÇO':\n",
    "        print(f'{mes} tem 31 dias')\n",
    "    case 'ABRIL':\n",
    "        print(f'{mes} tem 30 dias')\n",
    "    case 'MAIO':\n",
    "        print(f'{mes} tem 31 dias')\n",
    "    case 'JUNHO':\n",
    "        print(f'{mes} tem 30 dias')\n",
    "    case 'JULHO':\n",
    "        print(f'{mes} tem 31 dias')\n",
    "    case 'AGOSTO':\n",
    "        print(f'{mes} tem 31 dias')\n",
    "    case 'SETEMBRO':\n",
    "        print(f'{mes} tem 30 dias')\n",
    "    case 'OUTUBRO', 'DEZEMBRO':\n",
    "        print(f'{mes} tem 31 dias')\n",
    "    case 'NOVEMBRO':\n",
    "        print(f'{mes} tem 30 dias')\n",
    "    "
   ]
  },
  {
   "cell_type": "code",
   "execution_count": null,
   "metadata": {},
   "outputs": [],
   "source": [
    "mes = input('Digite o nome do mês')\n",
    "if mes == 'JANEIRO' or mes == 'MARÇO' or mes == 'MAIO' or mes == 'JULHO' or mes == 'AGOSTO' or mes == 'OUTUBRO' or mes == 'DEZEMBRO':\n",
    "    print(f'{mes} tem 31 dias')\n",
    "elif mes == 'FEVEREIRO':\n",
    "    print(f'{mes} tem 28 dias ou 29 dias')\n",
    "elif mes == 'ABRIL' or mes == 'JUNHO' or mes == 'SETEMBRO' or mes == 'NOVEMBRO':\n",
    "    print(f'{mes} tem 30 dias')\n"
   ]
  },
  {
   "cell_type": "markdown",
   "metadata": {},
   "source": [
    "4. Pede ao usuário para digitar 2 notas e calcule sua média, e considere a média acima de 7 aprovado, entre 5 e 7, em recuperação, abaixo de 5 reprovado.\n"
   ]
  },
  {
   "cell_type": "code",
   "execution_count": 32,
   "metadata": {},
   "outputs": [
    {
     "name": "stdout",
     "output_type": "stream",
     "text": [
      "Reprovado\n"
     ]
    }
   ],
   "source": [
    "nota1 = float(input('Digite a nota 1:'))\n",
    "nota2 = float(input('Digite a nota 2:'))\n",
    "media = (nota1 + nota2) / 2\n",
    "if media >= 7 :\n",
    "    print('Aprovado')\n",
    "elif media >= 5 :\n",
    "    print('Recuperação')\n",
    "else : \n",
    "    print ('Reprovado')"
   ]
  },
  {
   "cell_type": "markdown",
   "metadata": {},
   "source": [
    "5. Pede o salário do funcionário, e calcular o aumento que ele terá, considerando se ganhar até 2000, reajuste de 12%, até 4000, reajuste de 10%, acima de 4000 reajuste de 8%, exibir o novo salário\n"
   ]
  },
  {
   "cell_type": "code",
   "execution_count": null,
   "metadata": {},
   "outputs": [],
   "source": [
    "salario = float(input('Digite o salário:'))\n",
    "if salario <= 2000 :\n",
    "    aumento = salario * 0.12\n",
    "elif salario <= 4000 :\n",
    "    aumento = salario * 0.10\n",
    "else :\n",
    "    aumento = salario * 0.08\n",
    "print(f'Seu novo salário é de {salario + aumento}')"
   ]
  },
  {
   "cell_type": "markdown",
   "metadata": {},
   "source": [
    "Desafio 01 - Peça o salário do funcionário e calcule o valor do IRPF e INSS do funcionário e quanto ele irá receber no final do mês, considerando a seguinte tabela:\n"
   ]
  },
  {
   "cell_type": "code",
   "execution_count": 35,
   "metadata": {},
   "outputs": [
    {
     "name": "stdout",
     "output_type": "stream",
     "text": [
      "Seu salário líquido será: R$ 6341.15\n"
     ]
    }
   ],
   "source": [
    "salario = float(input('Digite o salário:'))\n",
    "#Considerando apenas a tabela de IRPF\n",
    "if salario <= 2259 :\n",
    "    desconto_irpf = 0\n",
    "elif salario <= 2826.65 :\n",
    "    desconto_irpf = salario * 0.075 \n",
    "elif salario <= 3751.05 :\n",
    "    desconto_irpf = salario * 0.15\n",
    "elif salario <= 4664.68 :\n",
    "    desconto_irpf = salario * 0.225\n",
    "else :\n",
    "    desconto_irpf = salario * 0.275\n",
    "\n",
    "#Considerando a tabela de INSS\n",
    "if salario <= 1412 :\n",
    "    desconto_inss = salario * 0.075\n",
    "elif salario <= 2666.68 :\n",
    "    desconto_inss = salario * 0.09\n",
    "elif salario <= 4000.03 :\n",
    "    desconto_inss = salario * 0.12\n",
    "elif salario <= 7786.02 :\n",
    "    desconto_inss = salario * 0.14\n",
    "else :\n",
    "    desconto_inss = 908.85\n",
    "\n",
    "salario_liquido = salario - desconto_irpf - desconto_inss\n",
    "print (f'Seu salário líquido será: R$ {salario_liquido:.2f}')"
   ]
  }
 ],
 "metadata": {
  "kernelspec": {
   "display_name": "Python 3",
   "language": "python",
   "name": "python3"
  },
  "language_info": {
   "codemirror_mode": {
    "name": "ipython",
    "version": 3
   },
   "file_extension": ".py",
   "mimetype": "text/x-python",
   "name": "python",
   "nbconvert_exporter": "python",
   "pygments_lexer": "ipython3",
   "version": "3.11.4"
  }
 },
 "nbformat": 4,
 "nbformat_minor": 2
}
