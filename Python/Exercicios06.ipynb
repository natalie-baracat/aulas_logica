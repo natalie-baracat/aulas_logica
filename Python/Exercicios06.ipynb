{
 "cells": [
  {
   "cell_type": "markdown",
   "metadata": {},
   "source": [
    "1. Utilizando o comando for, exiba todos os números ímpares, de 1 a 40."
   ]
  },
  {
   "cell_type": "code",
   "execution_count": 3,
   "metadata": {},
   "outputs": [
    {
     "name": "stdout",
     "output_type": "stream",
     "text": [
      "Números ímpares de 1 a 40\n",
      "1\n",
      "3\n",
      "5\n",
      "7\n",
      "9\n",
      "11\n",
      "13\n",
      "15\n",
      "17\n",
      "19\n",
      "21\n",
      "23\n",
      "25\n",
      "27\n",
      "29\n",
      "31\n",
      "33\n",
      "35\n",
      "37\n",
      "39\n"
     ]
    }
   ],
   "source": [
    "print('Números ímpares de 1 a 40')\n",
    "for nr in range(1, 41):\n",
    "    if nr % 2 != 0:\n",
    "        print(nr)"
   ]
  },
  {
   "cell_type": "markdown",
   "metadata": {},
   "source": [
    "2. Gere os 6 números do sorteio da mega-sena de forma aleatória."
   ]
  },
  {
   "cell_type": "code",
   "execution_count": 21,
   "metadata": {},
   "outputs": [
    {
     "name": "stdout",
     "output_type": "stream",
     "text": [
      "37\n",
      "58\n",
      "25\n",
      "44\n",
      "20\n",
      "42\n",
      "3\n"
     ]
    }
   ],
   "source": [
    "import random\n",
    "for sorteio in range(7):\n",
    "    sorteio = random.randint(1, 61)\n",
    "    print(sorteio)"
   ]
  },
  {
   "cell_type": "markdown",
   "metadata": {},
   "source": [
    "3. Receba 5 números e verifique a soma e a quantidade de todos os pares e ímpares digitados"
   ]
  },
  {
   "cell_type": "code",
   "execution_count": 30,
   "metadata": {},
   "outputs": [
    {
     "name": "stdout",
     "output_type": "stream",
     "text": [
      "Numero Impar: 1\n",
      "Numero Par: 2\n",
      "Numero Impar: 3\n",
      "Numero Par: 4\n",
      "Numero Impar: 5\n",
      "a soma de todos os números é 15. a soma de números pares é 6, e a soma de ímpares é 9\n"
     ]
    }
   ],
   "source": [
    "nr = 1\n",
    "impar = 0\n",
    "par = 0\n",
    "soma = 0\n",
    "\n",
    "#receber 5 numeros\n",
    "for nr in range(5):\n",
    "    nr = int(input('Digite um numero'))\n",
    "    if nr % 2 == 0:\n",
    "        par += nr\n",
    "        print(f'Numero Par: {nr}')\n",
    "    else:\n",
    "        impar += nr\n",
    "        print(f'Numero Impar: {nr}')\n",
    "    soma += nr\n",
    "print(f'a soma de todos os números é {soma}. a soma de números pares é {par}, e a soma de ímpares é {impar}')"
   ]
  },
  {
   "cell_type": "markdown",
   "metadata": {},
   "source": [
    "4. Solicite os parâmetros de início, fim e passo para o laço de repetição usando a função range()\n",
    "e exiba o valor atual da variável de controle a cada iteração. range( x , y , z )"
   ]
  },
  {
   "cell_type": "code",
   "execution_count": 19,
   "metadata": {},
   "outputs": [
    {
     "name": "stdout",
     "output_type": "stream",
     "text": [
      "1\n",
      "7\n",
      "13\n",
      "19\n",
      "25\n",
      "31\n",
      "37\n",
      "43\n",
      "49\n",
      "55\n"
     ]
    }
   ],
   "source": [
    "inicio = int(input('Digite um parâmetro de início'))\n",
    "fim = int(input('Digite um parâmetro de fim'))\n",
    "passo = int(input('Digite um parâmetro de passo'))\n",
    "\n",
    "for x in range(inicio, fim, passo):\n",
    "    print(x)"
   ]
  },
  {
   "cell_type": "markdown",
   "metadata": {},
   "source": [
    "5. Ler do teclado a idade e o sexo de 5 pessoas, calcule e imprima:\n",
    "• idade média das mulheres\n",
    "• idade média dos homens\n",
    "• idade média do grupo"
   ]
  },
  {
   "cell_type": "code",
   "execution_count": 25,
   "metadata": {},
   "outputs": [
    {
     "name": "stdout",
     "output_type": "stream",
     "text": [
      "Média da idade das mulheres: 26.5\n",
      "Média da idade das mulheres: 21.666666666666668\n",
      "Média da idade das mulheres: 87.5\n"
     ]
    }
   ],
   "source": [
    "\n",
    "soma_mulheres = 0\n",
    "soma_homens = 0\n",
    "qtde_mulheres = 0\n",
    "qtde_homens = 0\n",
    "for x in range(5):\n",
    "    idade = int(input('Digite a idade'))\n",
    "    sexo = input('Digite o sexo (F/M)')\n",
    "    if sexo == 'F' or sexo == 'f':\n",
    "        soma_mulheres = soma_mulheres + idade\n",
    "        qtde_mulheres += 1\n",
    "    elif sexo == 'M' or sexo == 'm':\n",
    "        soma_homens = soma_homens + idade\n",
    "        qtde_homens += 1\n",
    "    else:\n",
    "        print('Tente novamente')\n",
    "        \n",
    "print(f'Média da idade das mulheres: {soma_mulheres / qtde_mulheres}')\n",
    "print(f'Média da idade das mulheres: {soma_homens / qtde_homens}')\n",
    "print(f'Média da idade das mulheres: {soma_mulheres + soma_homens / qtde_mulheres + qtde_mulheres}')"
   ]
  },
  {
   "cell_type": "markdown",
   "metadata": {},
   "source": [
    "6. Escreva um programa que mostre todos os números entre 5 e 100 que são divisíveis por 7. Os\n",
    "números obtidos devem ser impressos em sequência."
   ]
  },
  {
   "cell_type": "code",
   "execution_count": 31,
   "metadata": {},
   "outputs": [
    {
     "name": "stdout",
     "output_type": "stream",
     "text": [
      "7\n",
      "14\n",
      "21\n",
      "28\n",
      "35\n",
      "42\n",
      "49\n",
      "56\n",
      "63\n",
      "70\n",
      "77\n",
      "84\n",
      "91\n",
      "98\n"
     ]
    }
   ],
   "source": [
    "for nr in range(5, 100):\n",
    "    if nr % 7 == 0:\n",
    "        print(nr)"
   ]
  },
  {
   "cell_type": "markdown",
   "metadata": {},
   "source": [
    "7. Escreva um programa em Python que receba uma string do usuário e mostre de trás para\n",
    "frente."
   ]
  },
  {
   "cell_type": "code",
   "execution_count": 9,
   "metadata": {},
   "outputs": [
    {
     "name": "stdout",
     "output_type": "stream",
     "text": [
      "a\n",
      "za\n",
      "iza\n",
      "riza\n",
      "ariza\n",
      "pariza\n",
      "hpariza\n",
      "ahpariza\n",
      "lahpariza\n",
      "elahpariza\n"
     ]
    }
   ],
   "source": [
    "nova_palavra = ''\n",
    "\n",
    "for letra in input('Digite algo'):\n",
    "    nova_palavra = letra + nova_palavra\n",
    "    print(nova_palavra)"
   ]
  },
  {
   "cell_type": "markdown",
   "metadata": {},
   "source": [
    "Desafio\n",
    "\n",
    "|Objetivo:|\n",
    "\n",
    "Este programa visa auxiliar o usuário no aprendizado da tabuada de um número específico, fornecendo feedback interativo e estatísticas de desempenho ao final.\n",
    "\n",
    "|Funcionalidades:|\n",
    "\n",
    "Solicita ao usuário o número que deseja treinar.\n",
    "Apresenta perguntas de multiplicação de 1 a 10 para o número escolhido.\n",
    "Valida cada resposta do usuário, fornecendo feedback em tempo real: \"CORRETO!\" para respostas corretas. \"QUE PENA, VOCÊ ERROU! O valor correto é X.\" para respostas incorretas, substituindo \"X\" pelo valor\n",
    "correto.\n",
    "Exibe estatísticas ao final da sessão: \"Total de acertos: Y\" \"Total de erros: Z\""
   ]
  },
  {
   "cell_type": "code",
   "execution_count": 23,
   "metadata": {},
   "outputs": [
    {
     "name": "stdout",
     "output_type": "stream",
     "text": [
      "Quanto é 7 x 1?\n",
      "QUE PENA, VOCÊ ERROU! O valor correto é 7\n",
      "Quanto é 7 x 2?\n",
      "QUE PENA, VOCÊ ERROU! O valor correto é 14\n",
      "Quanto é 7 x 3?\n",
      "QUE PENA, VOCÊ ERROU! O valor correto é 21\n",
      "Quanto é 7 x 4?\n",
      "CORRETO!\n",
      "Quanto é 7 x 5?\n",
      "CORRETO!\n",
      "Quanto é 7 x 6?\n",
      "CORRETO!\n",
      "Quanto é 7 x 7?\n",
      "CORRETO!\n",
      "Quanto é 7 x 8?\n",
      "CORRETO!\n",
      "Quanto é 7 x 9?\n",
      "CORRETO!\n",
      "Quanto é 7 x 10?\n",
      "CORRETO!\n",
      "Total de acertos = 7. Total de erros = 3\n"
     ]
    }
   ],
   "source": [
    "nr = int(input('Qual é a tabuada que você deseja treinar?'))\n",
    "multiplicador = 0\n",
    "acertos = 0\n",
    "erros = 0\n",
    "\n",
    "for multiplicador in range(1, 11):\n",
    "    print(f'Quanto é {nr} x {multiplicador}?')\n",
    "    resposta = int(input('Digite sua resposta'))\n",
    "    if resposta == nr * multiplicador:\n",
    "        print('CORRETO!')\n",
    "        acertos += 1\n",
    "    else:\n",
    "        print(f'QUE PENA, VOCÊ ERROU! O valor correto é {nr * multiplicador}')\n",
    "        erros += 1\n",
    "print(f'Total de acertos = {acertos}. Total de erros = {erros}')\n",
    "\n",
    "#fiz sozinha lek sigura peao"
   ]
  }
 ],
 "metadata": {
  "kernelspec": {
   "display_name": "Python 3",
   "language": "python",
   "name": "python3"
  },
  "language_info": {
   "codemirror_mode": {
    "name": "ipython",
    "version": 3
   },
   "file_extension": ".py",
   "mimetype": "text/x-python",
   "name": "python",
   "nbconvert_exporter": "python",
   "pygments_lexer": "ipython3",
   "version": "3.12.2"
  }
 },
 "nbformat": 4,
 "nbformat_minor": 2
}
